{
 "cells": [
  {
   "cell_type": "markdown",
   "id": "f39e115b-8676-45fa-bb84-ab295ea003a0",
   "metadata": {},
   "source": [
    "# Predicting the stock price for the infosys data"
   ]
  },
  {
   "cell_type": "code",
   "execution_count": 4,
   "id": "22e726f9-9adb-47b0-8326-1f211d260a89",
   "metadata": {},
   "outputs": [],
   "source": [
    "import tensorflow as t2\n",
    "from tensorflow import keras\n",
    "from sklearn.metrics import mean_squared_error\n",
    "\n",
    "\n",
    "# Common imports\n",
    "import numpy as np\n",
    "import os\n",
    "\n",
    "# to make this notebook's output stable across runs\n",
    "np.random.seed(42)\n",
    "\n",
    "# To plot pretty figures\n",
    "%matplotlib inline\n",
    "import matplotlib as mpl\n",
    "import matplotlib.pyplot as plt\n",
    "mpl.rc('axes', labelsize=14)\n",
    "mpl.rc('xtick', labelsize=12)\n",
    "mpl.rc('ytick', labelsize=12)"
   ]
  },
  {
   "cell_type": "markdown",
   "id": "725d4c53-680f-4c5d-b632-415022a66740",
   "metadata": {},
   "source": [
    "# Read the Dataset"
   ]
  },
  {
   "cell_type": "code",
   "execution_count": 5,
   "id": "c2dd934c-449b-4bc3-adc6-9147bda8a116",
   "metadata": {},
   "outputs": [
    {
     "data": {
      "text/html": [
       "<div>\n",
       "<style scoped>\n",
       "    .dataframe tbody tr th:only-of-type {\n",
       "        vertical-align: middle;\n",
       "    }\n",
       "\n",
       "    .dataframe tbody tr th {\n",
       "        vertical-align: top;\n",
       "    }\n",
       "\n",
       "    .dataframe thead th {\n",
       "        text-align: right;\n",
       "    }\n",
       "</style>\n",
       "<table border=\"1\" class=\"dataframe\">\n",
       "  <thead>\n",
       "    <tr style=\"text-align: right;\">\n",
       "      <th></th>\n",
       "      <th>Date</th>\n",
       "      <th>Open</th>\n",
       "      <th>High</th>\n",
       "      <th>Low</th>\n",
       "      <th>Close</th>\n",
       "      <th>Adj Close</th>\n",
       "      <th>Volume</th>\n",
       "    </tr>\n",
       "  </thead>\n",
       "  <tbody>\n",
       "    <tr>\n",
       "      <th>0</th>\n",
       "      <td>4/20/2022</td>\n",
       "      <td>20.68</td>\n",
       "      <td>20.730000</td>\n",
       "      <td>20.459999</td>\n",
       "      <td>20.570000</td>\n",
       "      <td>20.123756</td>\n",
       "      <td>10019600</td>\n",
       "    </tr>\n",
       "    <tr>\n",
       "      <th>1</th>\n",
       "      <td>4/21/2022</td>\n",
       "      <td>20.85</td>\n",
       "      <td>20.930000</td>\n",
       "      <td>20.629999</td>\n",
       "      <td>20.680000</td>\n",
       "      <td>20.231373</td>\n",
       "      <td>21840600</td>\n",
       "    </tr>\n",
       "    <tr>\n",
       "      <th>2</th>\n",
       "      <td>4/22/2022</td>\n",
       "      <td>20.51</td>\n",
       "      <td>20.610001</td>\n",
       "      <td>20.120001</td>\n",
       "      <td>20.260000</td>\n",
       "      <td>19.820482</td>\n",
       "      <td>11983400</td>\n",
       "    </tr>\n",
       "    <tr>\n",
       "      <th>3</th>\n",
       "      <td>4/25/2022</td>\n",
       "      <td>20.17</td>\n",
       "      <td>20.410000</td>\n",
       "      <td>20.030001</td>\n",
       "      <td>20.410000</td>\n",
       "      <td>19.967228</td>\n",
       "      <td>8778400</td>\n",
       "    </tr>\n",
       "    <tr>\n",
       "      <th>4</th>\n",
       "      <td>4/26/2022</td>\n",
       "      <td>20.25</td>\n",
       "      <td>20.379999</td>\n",
       "      <td>20.059999</td>\n",
       "      <td>20.120001</td>\n",
       "      <td>19.683521</td>\n",
       "      <td>13027100</td>\n",
       "    </tr>\n",
       "  </tbody>\n",
       "</table>\n",
       "</div>"
      ],
      "text/plain": [
       "        Date   Open       High        Low      Close  Adj Close    Volume\n",
       "0  4/20/2022  20.68  20.730000  20.459999  20.570000  20.123756  10019600\n",
       "1  4/21/2022  20.85  20.930000  20.629999  20.680000  20.231373  21840600\n",
       "2  4/22/2022  20.51  20.610001  20.120001  20.260000  19.820482  11983400\n",
       "3  4/25/2022  20.17  20.410000  20.030001  20.410000  19.967228   8778400\n",
       "4  4/26/2022  20.25  20.379999  20.059999  20.120001  19.683521  13027100"
      ]
     },
     "execution_count": 5,
     "metadata": {},
     "output_type": "execute_result"
    }
   ],
   "source": [
    "import pandas as pd\n",
    "\n",
    "infosys = pd.read_csv('infosys.csv')\n",
    "\n",
    "infosys.head()"
   ]
  },
  {
   "cell_type": "code",
   "execution_count": 6,
   "id": "06572e1a-2161-4516-95be-35b6f096157f",
   "metadata": {},
   "outputs": [
    {
     "data": {
      "text/html": [
       "<div>\n",
       "<style scoped>\n",
       "    .dataframe tbody tr th:only-of-type {\n",
       "        vertical-align: middle;\n",
       "    }\n",
       "\n",
       "    .dataframe tbody tr th {\n",
       "        vertical-align: top;\n",
       "    }\n",
       "\n",
       "    .dataframe thead th {\n",
       "        text-align: right;\n",
       "    }\n",
       "</style>\n",
       "<table border=\"1\" class=\"dataframe\">\n",
       "  <thead>\n",
       "    <tr style=\"text-align: right;\">\n",
       "      <th></th>\n",
       "      <th>Date</th>\n",
       "      <th>Open</th>\n",
       "      <th>High</th>\n",
       "      <th>Low</th>\n",
       "      <th>Close</th>\n",
       "      <th>Adj Close</th>\n",
       "      <th>Volume</th>\n",
       "    </tr>\n",
       "  </thead>\n",
       "  <tbody>\n",
       "    <tr>\n",
       "      <th>0</th>\n",
       "      <td>4/20/2022</td>\n",
       "      <td>20.680000</td>\n",
       "      <td>20.730000</td>\n",
       "      <td>20.459999</td>\n",
       "      <td>20.570000</td>\n",
       "      <td>20.123756</td>\n",
       "      <td>10019600</td>\n",
       "    </tr>\n",
       "    <tr>\n",
       "      <th>1</th>\n",
       "      <td>4/21/2022</td>\n",
       "      <td>20.850000</td>\n",
       "      <td>20.930000</td>\n",
       "      <td>20.629999</td>\n",
       "      <td>20.680000</td>\n",
       "      <td>20.231373</td>\n",
       "      <td>21840600</td>\n",
       "    </tr>\n",
       "    <tr>\n",
       "      <th>2</th>\n",
       "      <td>4/22/2022</td>\n",
       "      <td>20.510000</td>\n",
       "      <td>20.610001</td>\n",
       "      <td>20.120001</td>\n",
       "      <td>20.260000</td>\n",
       "      <td>19.820482</td>\n",
       "      <td>11983400</td>\n",
       "    </tr>\n",
       "    <tr>\n",
       "      <th>3</th>\n",
       "      <td>4/25/2022</td>\n",
       "      <td>20.170000</td>\n",
       "      <td>20.410000</td>\n",
       "      <td>20.030001</td>\n",
       "      <td>20.410000</td>\n",
       "      <td>19.967228</td>\n",
       "      <td>8778400</td>\n",
       "    </tr>\n",
       "    <tr>\n",
       "      <th>4</th>\n",
       "      <td>4/26/2022</td>\n",
       "      <td>20.250000</td>\n",
       "      <td>20.379999</td>\n",
       "      <td>20.059999</td>\n",
       "      <td>20.120001</td>\n",
       "      <td>19.683521</td>\n",
       "      <td>13027100</td>\n",
       "    </tr>\n",
       "    <tr>\n",
       "      <th>...</th>\n",
       "      <td>...</td>\n",
       "      <td>...</td>\n",
       "      <td>...</td>\n",
       "      <td>...</td>\n",
       "      <td>...</td>\n",
       "      <td>...</td>\n",
       "      <td>...</td>\n",
       "    </tr>\n",
       "    <tr>\n",
       "      <th>95</th>\n",
       "      <td>9/6/2022</td>\n",
       "      <td>18.139999</td>\n",
       "      <td>18.219999</td>\n",
       "      <td>17.930000</td>\n",
       "      <td>17.980000</td>\n",
       "      <td>17.786531</td>\n",
       "      <td>7158700</td>\n",
       "    </tr>\n",
       "    <tr>\n",
       "      <th>96</th>\n",
       "      <td>9/7/2022</td>\n",
       "      <td>18.139999</td>\n",
       "      <td>18.450001</td>\n",
       "      <td>18.110001</td>\n",
       "      <td>18.430000</td>\n",
       "      <td>18.231689</td>\n",
       "      <td>4769300</td>\n",
       "    </tr>\n",
       "    <tr>\n",
       "      <th>97</th>\n",
       "      <td>9/8/2022</td>\n",
       "      <td>18.350000</td>\n",
       "      <td>18.530001</td>\n",
       "      <td>18.280001</td>\n",
       "      <td>18.530001</td>\n",
       "      <td>18.330614</td>\n",
       "      <td>3936900</td>\n",
       "    </tr>\n",
       "    <tr>\n",
       "      <th>98</th>\n",
       "      <td>9/9/2022</td>\n",
       "      <td>18.770000</td>\n",
       "      <td>19.100000</td>\n",
       "      <td>18.750000</td>\n",
       "      <td>19.059999</td>\n",
       "      <td>18.854910</td>\n",
       "      <td>5513600</td>\n",
       "    </tr>\n",
       "    <tr>\n",
       "      <th>99</th>\n",
       "      <td>9/12/2022</td>\n",
       "      <td>19.230000</td>\n",
       "      <td>19.410000</td>\n",
       "      <td>19.190001</td>\n",
       "      <td>19.240000</td>\n",
       "      <td>19.032974</td>\n",
       "      <td>3607400</td>\n",
       "    </tr>\n",
       "  </tbody>\n",
       "</table>\n",
       "<p>100 rows × 7 columns</p>\n",
       "</div>"
      ],
      "text/plain": [
       "         Date       Open       High        Low      Close  Adj Close    Volume\n",
       "0   4/20/2022  20.680000  20.730000  20.459999  20.570000  20.123756  10019600\n",
       "1   4/21/2022  20.850000  20.930000  20.629999  20.680000  20.231373  21840600\n",
       "2   4/22/2022  20.510000  20.610001  20.120001  20.260000  19.820482  11983400\n",
       "3   4/25/2022  20.170000  20.410000  20.030001  20.410000  19.967228   8778400\n",
       "4   4/26/2022  20.250000  20.379999  20.059999  20.120001  19.683521  13027100\n",
       "..        ...        ...        ...        ...        ...        ...       ...\n",
       "95   9/6/2022  18.139999  18.219999  17.930000  17.980000  17.786531   7158700\n",
       "96   9/7/2022  18.139999  18.450001  18.110001  18.430000  18.231689   4769300\n",
       "97   9/8/2022  18.350000  18.530001  18.280001  18.530001  18.330614   3936900\n",
       "98   9/9/2022  18.770000  19.100000  18.750000  19.059999  18.854910   5513600\n",
       "99  9/12/2022  19.230000  19.410000  19.190001  19.240000  19.032974   3607400\n",
       "\n",
       "[100 rows x 7 columns]"
      ]
     },
     "execution_count": 6,
     "metadata": {},
     "output_type": "execute_result"
    }
   ],
   "source": [
    "infosys"
   ]
  },
  {
   "cell_type": "code",
   "execution_count": 7,
   "id": "86f0c0d9-8e90-481d-92c6-f4e179b776dd",
   "metadata": {},
   "outputs": [],
   "source": [
    "#Drop the columns we don't need\n",
    "\n",
    "infosys = infosys.drop(['Open', 'High', 'Low', 'Adj Close', 'Volume'], axis=1)\n"
   ]
  },
  {
   "cell_type": "code",
   "execution_count": 8,
   "id": "3c7c3bdb-f011-4208-9149-888f25dcca10",
   "metadata": {},
   "outputs": [
    {
     "data": {
      "text/html": [
       "<div>\n",
       "<style scoped>\n",
       "    .dataframe tbody tr th:only-of-type {\n",
       "        vertical-align: middle;\n",
       "    }\n",
       "\n",
       "    .dataframe tbody tr th {\n",
       "        vertical-align: top;\n",
       "    }\n",
       "\n",
       "    .dataframe thead th {\n",
       "        text-align: right;\n",
       "    }\n",
       "</style>\n",
       "<table border=\"1\" class=\"dataframe\">\n",
       "  <thead>\n",
       "    <tr style=\"text-align: right;\">\n",
       "      <th></th>\n",
       "      <th>Date</th>\n",
       "      <th>Close</th>\n",
       "    </tr>\n",
       "  </thead>\n",
       "  <tbody>\n",
       "    <tr>\n",
       "      <th>0</th>\n",
       "      <td>4/20/2022</td>\n",
       "      <td>20.570000</td>\n",
       "    </tr>\n",
       "    <tr>\n",
       "      <th>1</th>\n",
       "      <td>4/21/2022</td>\n",
       "      <td>20.680000</td>\n",
       "    </tr>\n",
       "    <tr>\n",
       "      <th>2</th>\n",
       "      <td>4/22/2022</td>\n",
       "      <td>20.260000</td>\n",
       "    </tr>\n",
       "    <tr>\n",
       "      <th>3</th>\n",
       "      <td>4/25/2022</td>\n",
       "      <td>20.410000</td>\n",
       "    </tr>\n",
       "    <tr>\n",
       "      <th>4</th>\n",
       "      <td>4/26/2022</td>\n",
       "      <td>20.120001</td>\n",
       "    </tr>\n",
       "    <tr>\n",
       "      <th>...</th>\n",
       "      <td>...</td>\n",
       "      <td>...</td>\n",
       "    </tr>\n",
       "    <tr>\n",
       "      <th>95</th>\n",
       "      <td>9/6/2022</td>\n",
       "      <td>17.980000</td>\n",
       "    </tr>\n",
       "    <tr>\n",
       "      <th>96</th>\n",
       "      <td>9/7/2022</td>\n",
       "      <td>18.430000</td>\n",
       "    </tr>\n",
       "    <tr>\n",
       "      <th>97</th>\n",
       "      <td>9/8/2022</td>\n",
       "      <td>18.530001</td>\n",
       "    </tr>\n",
       "    <tr>\n",
       "      <th>98</th>\n",
       "      <td>9/9/2022</td>\n",
       "      <td>19.059999</td>\n",
       "    </tr>\n",
       "    <tr>\n",
       "      <th>99</th>\n",
       "      <td>9/12/2022</td>\n",
       "      <td>19.240000</td>\n",
       "    </tr>\n",
       "  </tbody>\n",
       "</table>\n",
       "<p>100 rows × 2 columns</p>\n",
       "</div>"
      ],
      "text/plain": [
       "         Date      Close\n",
       "0   4/20/2022  20.570000\n",
       "1   4/21/2022  20.680000\n",
       "2   4/22/2022  20.260000\n",
       "3   4/25/2022  20.410000\n",
       "4   4/26/2022  20.120001\n",
       "..        ...        ...\n",
       "95   9/6/2022  17.980000\n",
       "96   9/7/2022  18.430000\n",
       "97   9/8/2022  18.530001\n",
       "98   9/9/2022  19.059999\n",
       "99  9/12/2022  19.240000\n",
       "\n",
       "[100 rows x 2 columns]"
      ]
     },
     "execution_count": 8,
     "metadata": {},
     "output_type": "execute_result"
    }
   ],
   "source": [
    "infosys"
   ]
  },
  {
   "cell_type": "code",
   "execution_count": 9,
   "id": "f7f5f4b3-b947-4a61-8a0f-678d6566e9fd",
   "metadata": {},
   "outputs": [
    {
     "data": {
      "image/png": "[encoded data removed]",
      "text/plain": [
       "<Figure size 640x480 with 1 Axes>"
      ]
     },
     "metadata": {},
     "output_type": "display_data"
    }
   ],
   "source": [
    "#Plot temp\n",
    "\n",
    "plt.plot(infosys['Close'])\n",
    "plt.show()"
   ]
  },
  {
   "cell_type": "markdown",
   "id": "84944990-15eb-4604-b2e1-6043f661fd6a",
   "metadata": {},
   "source": [
    "# Data Cleanup"
   ]
  },
  {
   "cell_type": "code",
   "execution_count": 10,
   "id": "5620bc13-1b8a-45e5-b19b-fb8f05631d92",
   "metadata": {},
   "outputs": [
    {
     "data": {
      "image/png": "[encoded data removed]",
      "text/plain": [
       "<Figure size 640x480 with 1 Axes>"
      ]
     },
     "metadata": {},
     "output_type": "display_data"
    }
   ],
   "source": [
    "plt.plot(infosys['Close'])\n",
    "plt.show()"
   ]
  },
  {
   "cell_type": "code",
   "execution_count": 11,
   "id": "540fc5ac-6df2-4ef9-8b7b-1041ef06e67c",
   "metadata": {},
   "outputs": [],
   "source": [
    "# Remove all null values\n",
    "\n",
    "infosys = infosys.dropna().reset_index(drop=True)"
   ]
  },
  {
   "cell_type": "code",
   "execution_count": 12,
   "id": "cc5a6c56-7dc8-4274-b28a-2ea4ea73151a",
   "metadata": {},
   "outputs": [
    {
     "data": {
      "image/png": "[encoded data removed]",
      "text/plain": [
       "<Figure size 640x480 with 1 Axes>"
      ]
     },
     "metadata": {},
     "output_type": "display_data"
    }
   ],
   "source": [
    "plt.plot(infosys['Close'])\n",
    "plt.show()"
   ]
  },
  {
   "cell_type": "markdown",
   "id": "263dcb46-cb3b-4673-a904-c28de856bb0b",
   "metadata": {},
   "source": [
    "## RESHAPE the data set!"
   ]
  },
  {
   "cell_type": "code",
   "execution_count": 13,
   "id": "df86cc30-f639-492d-9ebc-6ddb42dcf48a",
   "metadata": {},
   "outputs": [
    {
     "data": {
      "text/plain": [
       "(100, 2)"
      ]
     },
     "execution_count": 13,
     "metadata": {},
     "output_type": "execute_result"
    }
   ],
   "source": [
    "infosys.shape"
   ]
  },
  {
   "cell_type": "code",
   "execution_count": 14,
   "id": "f394517d-3d98-45aa-b2db-5c66d4c3b78c",
   "metadata": {},
   "outputs": [
    {
     "data": {
      "text/plain": [
       "array([[20.57    , 20.68    , 20.26    , 20.41    , 20.120001, 20.120001,\n",
       "        20.5     , 19.870001, 20.15    , 20.219999],\n",
       "       [20.610001, 20.309999, 19.85    , 19.82    , 19.76    , 19.41    ,\n",
       "        19.530001, 19.450001, 18.940001, 19.610001],\n",
       "       [18.780001, 18.629999, 18.700001, 18.889999, 18.4     , 18.139999,\n",
       "        18.450001, 19.      , 18.860001, 19.030001],\n",
       "       [19.51    , 19.379999, 19.43    , 19.379999, 19.16    , 18.879999,\n",
       "        18.33    , 17.85    , 18.24    , 18.290001],\n",
       "       [17.67    , 17.76    , 18.77    , 18.32    , 18.440001, 18.67    ,\n",
       "        18.76    , 18.459999, 18.610001, 18.51    ],\n",
       "       [18.85    , 18.67    , 18.93    , 19.16    , 19.059999, 18.459999,\n",
       "        18.209999, 18.110001, 17.9     , 18.17    ],\n",
       "       [18.440001, 18.709999, 18.719999, 19.209999, 18.879999, 18.559999,\n",
       "        17.91    , 18.709999, 19.15    , 19.49    ],\n",
       "       [19.620001, 19.49    , 20.1     , 20.15    , 20.309999, 20.27    ,\n",
       "        20.18    , 20.379999, 20.15    , 20.110001],\n",
       "       [20.110001, 20.15    , 20.09    , 19.969999, 19.780001, 19.52    ,\n",
       "        19.25    , 19.25    , 19.18    , 18.639999],\n",
       "       [18.389999, 18.43    , 18.299999, 18.42    , 18.09    , 17.98    ,\n",
       "        18.43    , 18.530001, 19.059999, 19.24    ]])"
      ]
     },
     "execution_count": 14,
     "metadata": {},
     "output_type": "execute_result"
    }
   ],
   "source": [
    "# Re-organize the data set by day and hours\n",
    "\n",
    "stock_market = np.array(infosys['Close']).reshape(10,10)\n",
    "\n",
    "stock_market"
   ]
  },
  {
   "cell_type": "code",
   "execution_count": 15,
   "id": "0ef8af0c-c68e-4a29-a3ac-a420ec37f89c",
   "metadata": {},
   "outputs": [
    {
     "data": {
      "text/html": [
       "<div>\n",
       "<style scoped>\n",
       "    .dataframe tbody tr th:only-of-type {\n",
       "        vertical-align: middle;\n",
       "    }\n",
       "\n",
       "    .dataframe tbody tr th {\n",
       "        vertical-align: top;\n",
       "    }\n",
       "\n",
       "    .dataframe thead th {\n",
       "        text-align: right;\n",
       "    }\n",
       "</style>\n",
       "<table border=\"1\" class=\"dataframe\">\n",
       "  <thead>\n",
       "    <tr style=\"text-align: right;\">\n",
       "      <th></th>\n",
       "      <th>0</th>\n",
       "      <th>1</th>\n",
       "      <th>2</th>\n",
       "      <th>3</th>\n",
       "      <th>4</th>\n",
       "      <th>5</th>\n",
       "      <th>6</th>\n",
       "      <th>7</th>\n",
       "      <th>8</th>\n",
       "      <th>9</th>\n",
       "    </tr>\n",
       "  </thead>\n",
       "  <tbody>\n",
       "    <tr>\n",
       "      <th>0</th>\n",
       "      <td>20.570000</td>\n",
       "      <td>20.680000</td>\n",
       "      <td>20.260000</td>\n",
       "      <td>20.410000</td>\n",
       "      <td>20.120001</td>\n",
       "      <td>20.120001</td>\n",
       "      <td>20.500000</td>\n",
       "      <td>19.870001</td>\n",
       "      <td>20.150000</td>\n",
       "      <td>20.219999</td>\n",
       "    </tr>\n",
       "    <tr>\n",
       "      <th>1</th>\n",
       "      <td>20.610001</td>\n",
       "      <td>20.309999</td>\n",
       "      <td>19.850000</td>\n",
       "      <td>19.820000</td>\n",
       "      <td>19.760000</td>\n",
       "      <td>19.410000</td>\n",
       "      <td>19.530001</td>\n",
       "      <td>19.450001</td>\n",
       "      <td>18.940001</td>\n",
       "      <td>19.610001</td>\n",
       "    </tr>\n",
       "    <tr>\n",
       "      <th>2</th>\n",
       "      <td>18.780001</td>\n",
       "      <td>18.629999</td>\n",
       "      <td>18.700001</td>\n",
       "      <td>18.889999</td>\n",
       "      <td>18.400000</td>\n",
       "      <td>18.139999</td>\n",
       "      <td>18.450001</td>\n",
       "      <td>19.000000</td>\n",
       "      <td>18.860001</td>\n",
       "      <td>19.030001</td>\n",
       "    </tr>\n",
       "    <tr>\n",
       "      <th>3</th>\n",
       "      <td>19.510000</td>\n",
       "      <td>19.379999</td>\n",
       "      <td>19.430000</td>\n",
       "      <td>19.379999</td>\n",
       "      <td>19.160000</td>\n",
       "      <td>18.879999</td>\n",
       "      <td>18.330000</td>\n",
       "      <td>17.850000</td>\n",
       "      <td>18.240000</td>\n",
       "      <td>18.290001</td>\n",
       "    </tr>\n",
       "    <tr>\n",
       "      <th>4</th>\n",
       "      <td>17.670000</td>\n",
       "      <td>17.760000</td>\n",
       "      <td>18.770000</td>\n",
       "      <td>18.320000</td>\n",
       "      <td>18.440001</td>\n",
       "      <td>18.670000</td>\n",
       "      <td>18.760000</td>\n",
       "      <td>18.459999</td>\n",
       "      <td>18.610001</td>\n",
       "      <td>18.510000</td>\n",
       "    </tr>\n",
       "    <tr>\n",
       "      <th>5</th>\n",
       "      <td>18.850000</td>\n",
       "      <td>18.670000</td>\n",
       "      <td>18.930000</td>\n",
       "      <td>19.160000</td>\n",
       "      <td>19.059999</td>\n",
       "      <td>18.459999</td>\n",
       "      <td>18.209999</td>\n",
       "      <td>18.110001</td>\n",
       "      <td>17.900000</td>\n",
       "      <td>18.170000</td>\n",
       "    </tr>\n",
       "    <tr>\n",
       "      <th>6</th>\n",
       "      <td>18.440001</td>\n",
       "      <td>18.709999</td>\n",
       "      <td>18.719999</td>\n",
       "      <td>19.209999</td>\n",
       "      <td>18.879999</td>\n",
       "      <td>18.559999</td>\n",
       "      <td>17.910000</td>\n",
       "      <td>18.709999</td>\n",
       "      <td>19.150000</td>\n",
       "      <td>19.490000</td>\n",
       "    </tr>\n",
       "    <tr>\n",
       "      <th>7</th>\n",
       "      <td>19.620001</td>\n",
       "      <td>19.490000</td>\n",
       "      <td>20.100000</td>\n",
       "      <td>20.150000</td>\n",
       "      <td>20.309999</td>\n",
       "      <td>20.270000</td>\n",
       "      <td>20.180000</td>\n",
       "      <td>20.379999</td>\n",
       "      <td>20.150000</td>\n",
       "      <td>20.110001</td>\n",
       "    </tr>\n",
       "    <tr>\n",
       "      <th>8</th>\n",
       "      <td>20.110001</td>\n",
       "      <td>20.150000</td>\n",
       "      <td>20.090000</td>\n",
       "      <td>19.969999</td>\n",
       "      <td>19.780001</td>\n",
       "      <td>19.520000</td>\n",
       "      <td>19.250000</td>\n",
       "      <td>19.250000</td>\n",
       "      <td>19.180000</td>\n",
       "      <td>18.639999</td>\n",
       "    </tr>\n",
       "    <tr>\n",
       "      <th>9</th>\n",
       "      <td>18.389999</td>\n",
       "      <td>18.430000</td>\n",
       "      <td>18.299999</td>\n",
       "      <td>18.420000</td>\n",
       "      <td>18.090000</td>\n",
       "      <td>17.980000</td>\n",
       "      <td>18.430000</td>\n",
       "      <td>18.530001</td>\n",
       "      <td>19.059999</td>\n",
       "      <td>19.240000</td>\n",
       "    </tr>\n",
       "  </tbody>\n",
       "</table>\n",
       "</div>"
      ],
      "text/plain": [
       "           0          1          2          3          4          5   \n",
       "0  20.570000  20.680000  20.260000  20.410000  20.120001  20.120001  \\\n",
       "1  20.610001  20.309999  19.850000  19.820000  19.760000  19.410000   \n",
       "2  18.780001  18.629999  18.700001  18.889999  18.400000  18.139999   \n",
       "3  19.510000  19.379999  19.430000  19.379999  19.160000  18.879999   \n",
       "4  17.670000  17.760000  18.770000  18.320000  18.440001  18.670000   \n",
       "5  18.850000  18.670000  18.930000  19.160000  19.059999  18.459999   \n",
       "6  18.440001  18.709999  18.719999  19.209999  18.879999  18.559999   \n",
       "7  19.620001  19.490000  20.100000  20.150000  20.309999  20.270000   \n",
       "8  20.110001  20.150000  20.090000  19.969999  19.780001  19.520000   \n",
       "9  18.389999  18.430000  18.299999  18.420000  18.090000  17.980000   \n",
       "\n",
       "           6          7          8          9  \n",
       "0  20.500000  19.870001  20.150000  20.219999  \n",
       "1  19.530001  19.450001  18.940001  19.610001  \n",
       "2  18.450001  19.000000  18.860001  19.030001  \n",
       "3  18.330000  17.850000  18.240000  18.290001  \n",
       "4  18.760000  18.459999  18.610001  18.510000  \n",
       "5  18.209999  18.110001  17.900000  18.170000  \n",
       "6  17.910000  18.709999  19.150000  19.490000  \n",
       "7  20.180000  20.379999  20.150000  20.110001  \n",
       "8  19.250000  19.250000  19.180000  18.639999  \n",
       "9  18.430000  18.530001  19.059999  19.240000  "
      ]
     },
     "execution_count": 15,
     "metadata": {},
     "output_type": "execute_result"
    }
   ],
   "source": [
    "# Convert to dataframe\n",
    "\n",
    "stock_market_df = pd.DataFrame(stock_market, columns=np.arange(0,10,1))\n",
    "\n",
    "stock_market_df"
   ]
  },
  {
   "cell_type": "markdown",
   "id": "8c81bd21-a84e-464f-9824-97170195c184",
   "metadata": {},
   "source": [
    "# Reshape for Standardizing Data"
   ]
  },
  {
   "cell_type": "code",
   "execution_count": 16,
   "id": "e79fdd64-bf6e-488e-bb23-b463af1259b8",
   "metadata": {},
   "outputs": [
    {
     "data": {
      "text/plain": [
       "(100, 1)"
      ]
     },
     "execution_count": 16,
     "metadata": {},
     "output_type": "execute_result"
    }
   ],
   "source": [
    "# Let's create a single sequence (i.e., feature) for standardization\n",
    "\n",
    "stock_market_feature = np.array(stock_market_df).ravel().reshape(-1,1)\n",
    "\n",
    "stock_market_feature.shape"
   ]
  },
  {
   "cell_type": "code",
   "execution_count": 17,
   "id": "bb4c7d07-4310-49f5-a3de-3ea67a8ce095",
   "metadata": {
    "scrolled": true
   },
   "outputs": [
    {
     "data": {
      "text/plain": [
       "array([[20.57    ],\n",
       "       [20.68    ],\n",
       "       [20.26    ],\n",
       "       [20.41    ],\n",
       "       [20.120001],\n",
       "       [20.120001],\n",
       "       [20.5     ],\n",
       "       [19.870001],\n",
       "       [20.15    ],\n",
       "       [20.219999],\n",
       "       [20.610001],\n",
       "       [20.309999],\n",
       "       [19.85    ],\n",
       "       [19.82    ],\n",
       "       [19.76    ],\n",
       "       [19.41    ],\n",
       "       [19.530001],\n",
       "       [19.450001],\n",
       "       [18.940001],\n",
       "       [19.610001],\n",
       "       [18.780001],\n",
       "       [18.629999],\n",
       "       [18.700001],\n",
       "       [18.889999],\n",
       "       [18.4     ],\n",
       "       [18.139999],\n",
       "       [18.450001],\n",
       "       [19.      ],\n",
       "       [18.860001],\n",
       "       [19.030001],\n",
       "       [19.51    ],\n",
       "       [19.379999],\n",
       "       [19.43    ],\n",
       "       [19.379999],\n",
       "       [19.16    ],\n",
       "       [18.879999],\n",
       "       [18.33    ],\n",
       "       [17.85    ],\n",
       "       [18.24    ],\n",
       "       [18.290001],\n",
       "       [17.67    ],\n",
       "       [17.76    ],\n",
       "       [18.77    ],\n",
       "       [18.32    ],\n",
       "       [18.440001],\n",
       "       [18.67    ],\n",
       "       [18.76    ],\n",
       "       [18.459999],\n",
       "       [18.610001],\n",
       "       [18.51    ],\n",
       "       [18.85    ],\n",
       "       [18.67    ],\n",
       "       [18.93    ],\n",
       "       [19.16    ],\n",
       "       [19.059999],\n",
       "       [18.459999],\n",
       "       [18.209999],\n",
       "       [18.110001],\n",
       "       [17.9     ],\n",
       "       [18.17    ],\n",
       "       [18.440001],\n",
       "       [18.709999],\n",
       "       [18.719999],\n",
       "       [19.209999],\n",
       "       [18.879999],\n",
       "       [18.559999],\n",
       "       [17.91    ],\n",
       "       [18.709999],\n",
       "       [19.15    ],\n",
       "       [19.49    ],\n",
       "       [19.620001],\n",
       "       [19.49    ],\n",
       "       [20.1     ],\n",
       "       [20.15    ],\n",
       "       [20.309999],\n",
       "       [20.27    ],\n",
       "       [20.18    ],\n",
       "       [20.379999],\n",
       "       [20.15    ],\n",
       "       [20.110001],\n",
       "       [20.110001],\n",
       "       [20.15    ],\n",
       "       [20.09    ],\n",
       "       [19.969999],\n",
       "       [19.780001],\n",
       "       [19.52    ],\n",
       "       [19.25    ],\n",
       "       [19.25    ],\n",
       "       [19.18    ],\n",
       "       [18.639999],\n",
       "       [18.389999],\n",
       "       [18.43    ],\n",
       "       [18.299999],\n",
       "       [18.42    ],\n",
       "       [18.09    ],\n",
       "       [17.98    ],\n",
       "       [18.43    ],\n",
       "       [18.530001],\n",
       "       [19.059999],\n",
       "       [19.24    ]])"
      ]
     },
     "execution_count": 17,
     "metadata": {},
     "output_type": "execute_result"
    }
   ],
   "source": [
    "stock_market_feature"
   ]
  },
  {
   "cell_type": "markdown",
   "id": "66fb25b9-eafe-45a4-8dd3-5f409b627782",
   "metadata": {},
   "source": [
    "## Standardize the values"
   ]
  },
  {
   "cell_type": "code",
   "execution_count": 18,
   "id": "17225b55-a267-48ad-9553-45c7df7b7b74",
   "metadata": {},
   "outputs": [],
   "source": [
    "# Next, standardize\n",
    "\n",
    "from sklearn.preprocessing import StandardScaler\n",
    "\n",
    "scaler = StandardScaler()\n",
    "\n",
    "stock_market_std = scaler.fit_transform(stock_market_feature)"
   ]
  },
  {
   "cell_type": "code",
   "execution_count": 19,
   "id": "938f5bc6-142d-44d7-8e28-7d0fa8d88230",
   "metadata": {},
   "outputs": [
    {
     "data": {
      "text/plain": [
       "(10, 10)"
      ]
     },
     "execution_count": 19,
     "metadata": {},
     "output_type": "execute_result"
    }
   ],
   "source": [
    "stock_market_reshaped =stock_market_std.reshape(10,10)\n",
    "\n",
    "stock_market_reshaped.shape"
   ]
  },
  {
   "cell_type": "code",
   "execution_count": 20,
   "id": "c62d4849-7842-451a-9d97-5f229e415886",
   "metadata": {},
   "outputs": [
    {
     "data": {
      "text/html": [
       "<div>\n",
       "<style scoped>\n",
       "    .dataframe tbody tr th:only-of-type {\n",
       "        vertical-align: middle;\n",
       "    }\n",
       "\n",
       "    .dataframe tbody tr th {\n",
       "        vertical-align: top;\n",
       "    }\n",
       "\n",
       "    .dataframe thead th {\n",
       "        text-align: right;\n",
       "    }\n",
       "</style>\n",
       "<table border=\"1\" class=\"dataframe\">\n",
       "  <thead>\n",
       "    <tr style=\"text-align: right;\">\n",
       "      <th></th>\n",
       "      <th>0</th>\n",
       "      <th>1</th>\n",
       "      <th>2</th>\n",
       "      <th>3</th>\n",
       "      <th>4</th>\n",
       "      <th>5</th>\n",
       "      <th>6</th>\n",
       "      <th>7</th>\n",
       "      <th>8</th>\n",
       "      <th>9</th>\n",
       "    </tr>\n",
       "  </thead>\n",
       "  <tbody>\n",
       "    <tr>\n",
       "      <th>0</th>\n",
       "      <td>1.826634</td>\n",
       "      <td>1.967499</td>\n",
       "      <td>1.429651</td>\n",
       "      <td>1.621739</td>\n",
       "      <td>1.250370</td>\n",
       "      <td>1.250370</td>\n",
       "      <td>1.736993</td>\n",
       "      <td>0.930222</td>\n",
       "      <td>1.288786</td>\n",
       "      <td>1.378426</td>\n",
       "    </tr>\n",
       "    <tr>\n",
       "      <th>1</th>\n",
       "      <td>1.877859</td>\n",
       "      <td>1.493679</td>\n",
       "      <td>0.904609</td>\n",
       "      <td>0.866191</td>\n",
       "      <td>0.789356</td>\n",
       "      <td>0.341149</td>\n",
       "      <td>0.494821</td>\n",
       "      <td>0.392374</td>\n",
       "      <td>-0.260727</td>\n",
       "      <td>0.597269</td>\n",
       "    </tr>\n",
       "    <tr>\n",
       "      <th>2</th>\n",
       "      <td>-0.465621</td>\n",
       "      <td>-0.657712</td>\n",
       "      <td>-0.568068</td>\n",
       "      <td>-0.324759</td>\n",
       "      <td>-0.952247</td>\n",
       "      <td>-1.285202</td>\n",
       "      <td>-0.888216</td>\n",
       "      <td>-0.183893</td>\n",
       "      <td>-0.363174</td>\n",
       "      <td>-0.145474</td>\n",
       "    </tr>\n",
       "    <tr>\n",
       "      <th>3</th>\n",
       "      <td>0.469208</td>\n",
       "      <td>0.302730</td>\n",
       "      <td>0.366761</td>\n",
       "      <td>0.302730</td>\n",
       "      <td>0.021002</td>\n",
       "      <td>-0.337565</td>\n",
       "      <td>-1.041888</td>\n",
       "      <td>-1.656571</td>\n",
       "      <td>-1.157141</td>\n",
       "      <td>-1.093110</td>\n",
       "    </tr>\n",
       "    <tr>\n",
       "      <th>4</th>\n",
       "      <td>-1.887078</td>\n",
       "      <td>-1.771825</td>\n",
       "      <td>-0.478428</td>\n",
       "      <td>-1.054694</td>\n",
       "      <td>-0.901022</td>\n",
       "      <td>-0.606487</td>\n",
       "      <td>-0.491234</td>\n",
       "      <td>-0.875413</td>\n",
       "      <td>-0.683322</td>\n",
       "      <td>-0.811382</td>\n",
       "    </tr>\n",
       "    <tr>\n",
       "      <th>5</th>\n",
       "      <td>-0.375981</td>\n",
       "      <td>-0.606487</td>\n",
       "      <td>-0.273534</td>\n",
       "      <td>0.021002</td>\n",
       "      <td>-0.107059</td>\n",
       "      <td>-0.875413</td>\n",
       "      <td>-1.195560</td>\n",
       "      <td>-1.323617</td>\n",
       "      <td>-1.592542</td>\n",
       "      <td>-1.246783</td>\n",
       "    </tr>\n",
       "    <tr>\n",
       "      <th>6</th>\n",
       "      <td>-0.901022</td>\n",
       "      <td>-0.555265</td>\n",
       "      <td>-0.542459</td>\n",
       "      <td>0.085030</td>\n",
       "      <td>-0.337565</td>\n",
       "      <td>-0.747354</td>\n",
       "      <td>-1.579736</td>\n",
       "      <td>-0.555265</td>\n",
       "      <td>0.008196</td>\n",
       "      <td>0.443596</td>\n",
       "    </tr>\n",
       "    <tr>\n",
       "      <th>7</th>\n",
       "      <td>0.610074</td>\n",
       "      <td>0.443596</td>\n",
       "      <td>1.224756</td>\n",
       "      <td>1.288786</td>\n",
       "      <td>1.493679</td>\n",
       "      <td>1.442457</td>\n",
       "      <td>1.327204</td>\n",
       "      <td>1.583320</td>\n",
       "      <td>1.288786</td>\n",
       "      <td>1.237564</td>\n",
       "    </tr>\n",
       "    <tr>\n",
       "      <th>8</th>\n",
       "      <td>1.237564</td>\n",
       "      <td>1.288786</td>\n",
       "      <td>1.211951</td>\n",
       "      <td>1.058278</td>\n",
       "      <td>0.814969</td>\n",
       "      <td>0.482014</td>\n",
       "      <td>0.136255</td>\n",
       "      <td>0.136255</td>\n",
       "      <td>0.046614</td>\n",
       "      <td>-0.644906</td>\n",
       "    </tr>\n",
       "    <tr>\n",
       "      <th>9</th>\n",
       "      <td>-0.965054</td>\n",
       "      <td>-0.913829</td>\n",
       "      <td>-1.080307</td>\n",
       "      <td>-0.926635</td>\n",
       "      <td>-1.349230</td>\n",
       "      <td>-1.490095</td>\n",
       "      <td>-0.913829</td>\n",
       "      <td>-0.785769</td>\n",
       "      <td>-0.107059</td>\n",
       "      <td>0.123449</td>\n",
       "    </tr>\n",
       "  </tbody>\n",
       "</table>\n",
       "</div>"
      ],
      "text/plain": [
       "          0         1         2         3         4         5         6   \n",
       "0  1.826634  1.967499  1.429651  1.621739  1.250370  1.250370  1.736993  \\\n",
       "1  1.877859  1.493679  0.904609  0.866191  0.789356  0.341149  0.494821   \n",
       "2 -0.465621 -0.657712 -0.568068 -0.324759 -0.952247 -1.285202 -0.888216   \n",
       "3  0.469208  0.302730  0.366761  0.302730  0.021002 -0.337565 -1.041888   \n",
       "4 -1.887078 -1.771825 -0.478428 -1.054694 -0.901022 -0.606487 -0.491234   \n",
       "5 -0.375981 -0.606487 -0.273534  0.021002 -0.107059 -0.875413 -1.195560   \n",
       "6 -0.901022 -0.555265 -0.542459  0.085030 -0.337565 -0.747354 -1.579736   \n",
       "7  0.610074  0.443596  1.224756  1.288786  1.493679  1.442457  1.327204   \n",
       "8  1.237564  1.288786  1.211951  1.058278  0.814969  0.482014  0.136255   \n",
       "9 -0.965054 -0.913829 -1.080307 -0.926635 -1.349230 -1.490095 -0.913829   \n",
       "\n",
       "          7         8         9  \n",
       "0  0.930222  1.288786  1.378426  \n",
       "1  0.392374 -0.260727  0.597269  \n",
       "2 -0.183893 -0.363174 -0.145474  \n",
       "3 -1.656571 -1.157141 -1.093110  \n",
       "4 -0.875413 -0.683322 -0.811382  \n",
       "5 -1.323617 -1.592542 -1.246783  \n",
       "6 -0.555265  0.008196  0.443596  \n",
       "7  1.583320  1.288786  1.237564  \n",
       "8  0.136255  0.046614 -0.644906  \n",
       "9 -0.785769 -0.107059  0.123449  "
      ]
     },
     "execution_count": 20,
     "metadata": {},
     "output_type": "execute_result"
    }
   ],
   "source": [
    "#Pandas version of the reshaped data\n",
    "\n",
    "pd.DataFrame(stock_market_reshaped)"
   ]
  },
  {
   "cell_type": "markdown",
   "id": "967d2fff-f91d-4c51-8818-88377ed59261",
   "metadata": {},
   "source": [
    "# Split the Data\n",
    "\n",
    "**In certain cases, we cannot use a random split. For example, if we are trying to predict the stock market, we cannot use a random split. We need to use a chronological split.**\n",
    "\n",
    "BUT, keep in mind if we have something like hourly readings of dayly temperature, we can use a random split on days, but the sequence of the temperature within the day is important to remain sequential.\n",
    "\n",
    "In this case, we are using a random spli because each day as an independent sample."
   ]
  },
  {
   "cell_type": "code",
   "execution_count": 21,
   "id": "8a0dbb42-87b5-40f1-b99d-a577cec24044",
   "metadata": {},
   "outputs": [],
   "source": [
    "from sklearn.model_selection import train_test_split\n",
    "\n",
    "#train, test = train_test_split(temp_reshaped, test_size=0.3)\n",
    "\n",
    "# if we neede to maintain the ordering of the data, we can use the following code to split the data\n",
    "split_point = int(len(stock_market_reshaped)*0.7)\n",
    "train, test = stock_market_reshaped[:split_point], stock_market_reshaped[split_point:]"
   ]
  },
  {
   "cell_type": "code",
   "execution_count": 22,
   "id": "c8373982-d416-4137-abc5-98fe10652908",
   "metadata": {},
   "outputs": [
    {
     "data": {
      "text/plain": [
       "(7, 10)"
      ]
     },
     "execution_count": 22,
     "metadata": {},
     "output_type": "execute_result"
    }
   ],
   "source": [
    "train.shape"
   ]
  },
  {
   "cell_type": "code",
   "execution_count": 23,
   "id": "b6a36183-331c-4031-8597-905a1f15da52",
   "metadata": {},
   "outputs": [
    {
     "data": {
      "text/plain": [
       "array([[ 1.82663383,  1.96749875,  1.42965088,  1.6217394 ,  1.25036954,\n",
       "         1.25036954,  1.73699252,  0.930222  ,  1.28878596,  1.37842599],\n",
       "       [ 1.87785872,  1.49367911,  0.90460891,  0.86619121,  0.7893558 ,\n",
       "         0.34114924,  0.49482134,  0.39237413, -0.26072685,  0.59726856],\n",
       "       [-0.46562128, -0.65771236, -0.56806849, -0.32475892, -0.95224682,\n",
       "        -1.28520154, -0.88821603, -0.18389272, -0.36317406, -0.14547374],\n",
       "       [ 0.46920826,  0.30273026,  0.36676105,  0.30273026,  0.0210017 ,\n",
       "        -0.33756482, -1.04188813, -1.65657141, -1.15714124, -1.09311045],\n",
       "       [-1.88707763, -1.77182452, -0.47842846, -1.05469403, -0.90102193,\n",
       "        -0.60648747, -0.49123436, -0.87541269, -0.6833216 , -0.8113819 ],\n",
       "       [-0.37598125, -0.60648747, -0.27353403,  0.0210017 , -0.10705859,\n",
       "        -0.87541269, -1.19556023, -1.32361668, -1.5925419 , -1.24678255],\n",
       "       [-0.90102193, -0.55526515, -0.54245925,  0.08502993, -0.33756482,\n",
       "        -0.74735367, -1.579736  , -0.55526515,  0.0081958 ,  0.44359646]])"
      ]
     },
     "execution_count": 23,
     "metadata": {},
     "output_type": "execute_result"
    }
   ],
   "source": [
    "train"
   ]
  },
  {
   "cell_type": "code",
   "execution_count": 24,
   "id": "c6ee7067-bf61-49fb-a8ed-3c7920985ee4",
   "metadata": {},
   "outputs": [
    {
     "data": {
      "text/plain": [
       "(3, 10)"
      ]
     },
     "execution_count": 24,
     "metadata": {},
     "output_type": "execute_result"
    }
   ],
   "source": [
    "test.shape"
   ]
  },
  {
   "cell_type": "code",
   "execution_count": 25,
   "id": "e58b95e6-367b-4e3b-8c07-b4e4f8af20c9",
   "metadata": {},
   "outputs": [
    {
     "data": {
      "text/plain": [
       "array([[ 0.61007446,  0.44359646,  1.22475645,  1.28878596,  1.49367911,\n",
       "         1.44245678,  1.32720367,  1.58332042,  1.28878596,  1.23756364],\n",
       "       [ 1.23756364,  1.28878596,  1.21195055,  1.05827845,  0.81496888,\n",
       "         0.48201416,  0.13625482,  0.13625482,  0.04661351, -0.64490646],\n",
       "       [-0.965054  , -0.91382911, -1.08030711, -0.92663501, -1.34922977,\n",
       "        -1.49009468, -0.91382911, -0.78576882, -0.10705859,  0.12344892]])"
      ]
     },
     "execution_count": 25,
     "metadata": {},
     "output_type": "execute_result"
    }
   ],
   "source": [
    "test"
   ]
  },
  {
   "cell_type": "markdown",
   "id": "12fd1f60-1e89-44a4-a9de-ece3492c3193",
   "metadata": {},
   "source": [
    "# Create Input and Target values\n",
    "\n",
    "The first 23 hours will be input to predict the 24th hour reading (i.e., target)"
   ]
  },
  {
   "cell_type": "code",
   "execution_count": 26,
   "id": "8e1fc08e-76f0-48ca-867b-ee6c3c886206",
   "metadata": {},
   "outputs": [
    {
     "data": {
      "text/html": [
       "<div>\n",
       "<style scoped>\n",
       "    .dataframe tbody tr th:only-of-type {\n",
       "        vertical-align: middle;\n",
       "    }\n",
       "\n",
       "    .dataframe tbody tr th {\n",
       "        vertical-align: top;\n",
       "    }\n",
       "\n",
       "    .dataframe thead th {\n",
       "        text-align: right;\n",
       "    }\n",
       "</style>\n",
       "<table border=\"1\" class=\"dataframe\">\n",
       "  <thead>\n",
       "    <tr style=\"text-align: right;\">\n",
       "      <th></th>\n",
       "      <th>0</th>\n",
       "      <th>1</th>\n",
       "      <th>2</th>\n",
       "      <th>3</th>\n",
       "      <th>4</th>\n",
       "      <th>5</th>\n",
       "      <th>6</th>\n",
       "      <th>7</th>\n",
       "      <th>8</th>\n",
       "    </tr>\n",
       "  </thead>\n",
       "  <tbody>\n",
       "    <tr>\n",
       "      <th>0</th>\n",
       "      <td>1.826634</td>\n",
       "      <td>1.967499</td>\n",
       "      <td>1.429651</td>\n",
       "      <td>1.621739</td>\n",
       "      <td>1.250370</td>\n",
       "      <td>1.250370</td>\n",
       "      <td>1.736993</td>\n",
       "      <td>0.930222</td>\n",
       "      <td>1.288786</td>\n",
       "    </tr>\n",
       "    <tr>\n",
       "      <th>1</th>\n",
       "      <td>1.877859</td>\n",
       "      <td>1.493679</td>\n",
       "      <td>0.904609</td>\n",
       "      <td>0.866191</td>\n",
       "      <td>0.789356</td>\n",
       "      <td>0.341149</td>\n",
       "      <td>0.494821</td>\n",
       "      <td>0.392374</td>\n",
       "      <td>-0.260727</td>\n",
       "    </tr>\n",
       "    <tr>\n",
       "      <th>2</th>\n",
       "      <td>-0.465621</td>\n",
       "      <td>-0.657712</td>\n",
       "      <td>-0.568068</td>\n",
       "      <td>-0.324759</td>\n",
       "      <td>-0.952247</td>\n",
       "      <td>-1.285202</td>\n",
       "      <td>-0.888216</td>\n",
       "      <td>-0.183893</td>\n",
       "      <td>-0.363174</td>\n",
       "    </tr>\n",
       "    <tr>\n",
       "      <th>3</th>\n",
       "      <td>0.469208</td>\n",
       "      <td>0.302730</td>\n",
       "      <td>0.366761</td>\n",
       "      <td>0.302730</td>\n",
       "      <td>0.021002</td>\n",
       "      <td>-0.337565</td>\n",
       "      <td>-1.041888</td>\n",
       "      <td>-1.656571</td>\n",
       "      <td>-1.157141</td>\n",
       "    </tr>\n",
       "    <tr>\n",
       "      <th>4</th>\n",
       "      <td>-1.887078</td>\n",
       "      <td>-1.771825</td>\n",
       "      <td>-0.478428</td>\n",
       "      <td>-1.054694</td>\n",
       "      <td>-0.901022</td>\n",
       "      <td>-0.606487</td>\n",
       "      <td>-0.491234</td>\n",
       "      <td>-0.875413</td>\n",
       "      <td>-0.683322</td>\n",
       "    </tr>\n",
       "    <tr>\n",
       "      <th>5</th>\n",
       "      <td>-0.375981</td>\n",
       "      <td>-0.606487</td>\n",
       "      <td>-0.273534</td>\n",
       "      <td>0.021002</td>\n",
       "      <td>-0.107059</td>\n",
       "      <td>-0.875413</td>\n",
       "      <td>-1.195560</td>\n",
       "      <td>-1.323617</td>\n",
       "      <td>-1.592542</td>\n",
       "    </tr>\n",
       "    <tr>\n",
       "      <th>6</th>\n",
       "      <td>-0.901022</td>\n",
       "      <td>-0.555265</td>\n",
       "      <td>-0.542459</td>\n",
       "      <td>0.085030</td>\n",
       "      <td>-0.337565</td>\n",
       "      <td>-0.747354</td>\n",
       "      <td>-1.579736</td>\n",
       "      <td>-0.555265</td>\n",
       "      <td>0.008196</td>\n",
       "    </tr>\n",
       "  </tbody>\n",
       "</table>\n",
       "</div>"
      ],
      "text/plain": [
       "          0         1         2         3         4         5         6   \n",
       "0  1.826634  1.967499  1.429651  1.621739  1.250370  1.250370  1.736993  \\\n",
       "1  1.877859  1.493679  0.904609  0.866191  0.789356  0.341149  0.494821   \n",
       "2 -0.465621 -0.657712 -0.568068 -0.324759 -0.952247 -1.285202 -0.888216   \n",
       "3  0.469208  0.302730  0.366761  0.302730  0.021002 -0.337565 -1.041888   \n",
       "4 -1.887078 -1.771825 -0.478428 -1.054694 -0.901022 -0.606487 -0.491234   \n",
       "5 -0.375981 -0.606487 -0.273534  0.021002 -0.107059 -0.875413 -1.195560   \n",
       "6 -0.901022 -0.555265 -0.542459  0.085030 -0.337565 -0.747354 -1.579736   \n",
       "\n",
       "          7         8  \n",
       "0  0.930222  1.288786  \n",
       "1  0.392374 -0.260727  \n",
       "2 -0.183893 -0.363174  \n",
       "3 -1.656571 -1.157141  \n",
       "4 -0.875413 -0.683322  \n",
       "5 -1.323617 -1.592542  \n",
       "6 -0.555265  0.008196  "
      ]
     },
     "execution_count": 26,
     "metadata": {},
     "output_type": "execute_result"
    }
   ],
   "source": [
    "train_inputs = train[:,:9]\n",
    "\n",
    "\n",
    "pd.DataFrame(train_inputs)"
   ]
  },
  {
   "cell_type": "markdown",
   "id": "95be3f86-8378-4f68-8a10-0cc667992db9",
   "metadata": {},
   "source": [
    "## Add one more dimension to make it ready for RNNs"
   ]
  },
  {
   "cell_type": "markdown",
   "id": "e56886c0-f2fa-4751-8676-140c5dbd8833",
   "metadata": {},
   "source": [
    "See here for more details: https://keras.io/layers/recurrent/, and https://shiva-verma.medium.com/understanding-input-and-output-shape-in-lstm-keras-c501ee95c65e\n"
   ]
  },
  {
   "cell_type": "code",
   "execution_count": 27,
   "id": "153d1ebd-5574-415b-95e2-9c997466d374",
   "metadata": {},
   "outputs": [
    {
     "data": {
      "text/plain": [
       "array([[ 1.82663383,  1.96749875,  1.42965088,  1.6217394 ,  1.25036954,\n",
       "         1.25036954,  1.73699252,  0.930222  ,  1.28878596],\n",
       "       [ 1.87785872,  1.49367911,  0.90460891,  0.86619121,  0.7893558 ,\n",
       "         0.34114924,  0.49482134,  0.39237413, -0.26072685],\n",
       "       [-0.46562128, -0.65771236, -0.56806849, -0.32475892, -0.95224682,\n",
       "        -1.28520154, -0.88821603, -0.18389272, -0.36317406],\n",
       "       [ 0.46920826,  0.30273026,  0.36676105,  0.30273026,  0.0210017 ,\n",
       "        -0.33756482, -1.04188813, -1.65657141, -1.15714124],\n",
       "       [-1.88707763, -1.77182452, -0.47842846, -1.05469403, -0.90102193,\n",
       "        -0.60648747, -0.49123436, -0.87541269, -0.6833216 ],\n",
       "       [-0.37598125, -0.60648747, -0.27353403,  0.0210017 , -0.10705859,\n",
       "        -0.87541269, -1.19556023, -1.32361668, -1.5925419 ],\n",
       "       [-0.90102193, -0.55526515, -0.54245925,  0.08502993, -0.33756482,\n",
       "        -0.74735367, -1.579736  , -0.55526515,  0.0081958 ]])"
      ]
     },
     "execution_count": 27,
     "metadata": {},
     "output_type": "execute_result"
    }
   ],
   "source": [
    "train_inputs"
   ]
  },
  {
   "cell_type": "code",
   "execution_count": 28,
   "id": "a743c759-c376-4ff0-941f-a2349c3f643d",
   "metadata": {},
   "outputs": [
    {
     "data": {
      "text/plain": [
       "(7, 9)"
      ]
     },
     "execution_count": 28,
     "metadata": {},
     "output_type": "execute_result"
    }
   ],
   "source": [
    "train_inputs.shape "
   ]
  },
  {
   "cell_type": "code",
   "execution_count": 29,
   "id": "23978448-2e1f-4bff-96d4-d36c3d948592",
   "metadata": {},
   "outputs": [
    {
     "data": {
      "text/plain": [
       "(7, 9, 1)"
      ]
     },
     "execution_count": 29,
     "metadata": {},
     "output_type": "execute_result"
    }
   ],
   "source": [
    "#Create an additional dimension for train\n",
    "\n",
    "train_x = train_inputs[:,:,np.newaxis]\n",
    "\n",
    "train_x.shape "
   ]
  },
  {
   "cell_type": "code",
   "execution_count": 30,
   "id": "7663f0db-5fc7-4690-b134-37e786185c07",
   "metadata": {},
   "outputs": [
    {
     "data": {
      "text/plain": [
       "array([[[ 1.82663383],\n",
       "        [ 1.96749875],\n",
       "        [ 1.42965088],\n",
       "        [ 1.6217394 ],\n",
       "        [ 1.25036954],\n",
       "        [ 1.25036954],\n",
       "        [ 1.73699252],\n",
       "        [ 0.930222  ],\n",
       "        [ 1.28878596]],\n",
       "\n",
       "       [[ 1.87785872],\n",
       "        [ 1.49367911],\n",
       "        [ 0.90460891],\n",
       "        [ 0.86619121],\n",
       "        [ 0.7893558 ],\n",
       "        [ 0.34114924],\n",
       "        [ 0.49482134],\n",
       "        [ 0.39237413],\n",
       "        [-0.26072685]],\n",
       "\n",
       "       [[-0.46562128],\n",
       "        [-0.65771236],\n",
       "        [-0.56806849],\n",
       "        [-0.32475892],\n",
       "        [-0.95224682],\n",
       "        [-1.28520154],\n",
       "        [-0.88821603],\n",
       "        [-0.18389272],\n",
       "        [-0.36317406]],\n",
       "\n",
       "       [[ 0.46920826],\n",
       "        [ 0.30273026],\n",
       "        [ 0.36676105],\n",
       "        [ 0.30273026],\n",
       "        [ 0.0210017 ],\n",
       "        [-0.33756482],\n",
       "        [-1.04188813],\n",
       "        [-1.65657141],\n",
       "        [-1.15714124]],\n",
       "\n",
       "       [[-1.88707763],\n",
       "        [-1.77182452],\n",
       "        [-0.47842846],\n",
       "        [-1.05469403],\n",
       "        [-0.90102193],\n",
       "        [-0.60648747],\n",
       "        [-0.49123436],\n",
       "        [-0.87541269],\n",
       "        [-0.6833216 ]],\n",
       "\n",
       "       [[-0.37598125],\n",
       "        [-0.60648747],\n",
       "        [-0.27353403],\n",
       "        [ 0.0210017 ],\n",
       "        [-0.10705859],\n",
       "        [-0.87541269],\n",
       "        [-1.19556023],\n",
       "        [-1.32361668],\n",
       "        [-1.5925419 ]],\n",
       "\n",
       "       [[-0.90102193],\n",
       "        [-0.55526515],\n",
       "        [-0.54245925],\n",
       "        [ 0.08502993],\n",
       "        [-0.33756482],\n",
       "        [-0.74735367],\n",
       "        [-1.579736  ],\n",
       "        [-0.55526515],\n",
       "        [ 0.0081958 ]]])"
      ]
     },
     "execution_count": 30,
     "metadata": {},
     "output_type": "execute_result"
    }
   ],
   "source": [
    "train_x"
   ]
  },
  {
   "cell_type": "markdown",
   "id": "426a84b4-1b10-48e2-9923-1cfda978ff4e",
   "metadata": {},
   "source": [
    "## Set the target"
   ]
  },
  {
   "cell_type": "code",
   "execution_count": 31,
   "id": "f8b7bfcb-2e95-42f8-871b-7c9fa7046275",
   "metadata": {},
   "outputs": [
    {
     "data": {
      "text/html": [
       "<div>\n",
       "<style scoped>\n",
       "    .dataframe tbody tr th:only-of-type {\n",
       "        vertical-align: middle;\n",
       "    }\n",
       "\n",
       "    .dataframe tbody tr th {\n",
       "        vertical-align: top;\n",
       "    }\n",
       "\n",
       "    .dataframe thead th {\n",
       "        text-align: right;\n",
       "    }\n",
       "</style>\n",
       "<table border=\"1\" class=\"dataframe\">\n",
       "  <thead>\n",
       "    <tr style=\"text-align: right;\">\n",
       "      <th></th>\n",
       "      <th>9</th>\n",
       "    </tr>\n",
       "  </thead>\n",
       "  <tbody>\n",
       "    <tr>\n",
       "      <th>0</th>\n",
       "      <td>1.378426</td>\n",
       "    </tr>\n",
       "    <tr>\n",
       "      <th>1</th>\n",
       "      <td>0.597269</td>\n",
       "    </tr>\n",
       "    <tr>\n",
       "      <th>2</th>\n",
       "      <td>-0.145474</td>\n",
       "    </tr>\n",
       "    <tr>\n",
       "      <th>3</th>\n",
       "      <td>-1.093110</td>\n",
       "    </tr>\n",
       "    <tr>\n",
       "      <th>4</th>\n",
       "      <td>-0.811382</td>\n",
       "    </tr>\n",
       "    <tr>\n",
       "      <th>5</th>\n",
       "      <td>-1.246783</td>\n",
       "    </tr>\n",
       "    <tr>\n",
       "      <th>6</th>\n",
       "      <td>0.443596</td>\n",
       "    </tr>\n",
       "  </tbody>\n",
       "</table>\n",
       "</div>"
      ],
      "text/plain": [
       "          9\n",
       "0  1.378426\n",
       "1  0.597269\n",
       "2 -0.145474\n",
       "3 -1.093110\n",
       "4 -0.811382\n",
       "5 -1.246783\n",
       "6  0.443596"
      ]
     },
     "execution_count": 31,
     "metadata": {},
     "output_type": "execute_result"
    }
   ],
   "source": [
    "# The last column (23) is TARGET\n",
    "\n",
    "train_target = train[:,-1]\n",
    "\n",
    "\n",
    "pd.DataFrame(train_target, columns=['9'])"
   ]
  },
  {
   "cell_type": "markdown",
   "id": "7b5a622d-fc8f-4f1f-9bdc-80fa39da21cf",
   "metadata": {},
   "source": [
    "## Repeat for TEST"
   ]
  },
  {
   "cell_type": "code",
   "execution_count": 32,
   "id": "8446c783-309e-4f1d-92bb-62b524f787d4",
   "metadata": {},
   "outputs": [
    {
     "data": {
      "text/plain": [
       "(3, 10)"
      ]
     },
     "execution_count": 32,
     "metadata": {},
     "output_type": "execute_result"
    }
   ],
   "source": [
    "test.shape"
   ]
  },
  {
   "cell_type": "code",
   "execution_count": 33,
   "id": "769845a7-628e-49cc-9039-e1354dd35126",
   "metadata": {},
   "outputs": [
    {
     "data": {
      "text/plain": [
       "array([[ 0.61007446,  0.44359646,  1.22475645,  1.28878596,  1.49367911,\n",
       "         1.44245678,  1.32720367,  1.58332042,  1.28878596,  1.23756364],\n",
       "       [ 1.23756364,  1.28878596,  1.21195055,  1.05827845,  0.81496888,\n",
       "         0.48201416,  0.13625482,  0.13625482,  0.04661351, -0.64490646],\n",
       "       [-0.965054  , -0.91382911, -1.08030711, -0.92663501, -1.34922977,\n",
       "        -1.49009468, -0.91382911, -0.78576882, -0.10705859,  0.12344892]])"
      ]
     },
     "execution_count": 33,
     "metadata": {},
     "output_type": "execute_result"
    }
   ],
   "source": [
    "test"
   ]
  },
  {
   "cell_type": "code",
   "execution_count": 34,
   "id": "8b1d2579-bc7a-4d38-93b2-729b08276e90",
   "metadata": {},
   "outputs": [],
   "source": [
    "test_inputs = test[:, :9]"
   ]
  },
  {
   "cell_type": "code",
   "execution_count": 35,
   "id": "72070869-c869-4c58-8048-1741b8117cba",
   "metadata": {},
   "outputs": [
    {
     "data": {
      "text/plain": [
       "array([[ 0.61007446,  0.44359646,  1.22475645,  1.28878596,  1.49367911,\n",
       "         1.44245678,  1.32720367,  1.58332042,  1.28878596],\n",
       "       [ 1.23756364,  1.28878596,  1.21195055,  1.05827845,  0.81496888,\n",
       "         0.48201416,  0.13625482,  0.13625482,  0.04661351],\n",
       "       [-0.965054  , -0.91382911, -1.08030711, -0.92663501, -1.34922977,\n",
       "        -1.49009468, -0.91382911, -0.78576882, -0.10705859]])"
      ]
     },
     "execution_count": 35,
     "metadata": {},
     "output_type": "execute_result"
    }
   ],
   "source": [
    "test_inputs"
   ]
  },
  {
   "cell_type": "code",
   "execution_count": 36,
   "id": "4bd0bcc5-6210-4a93-b146-c30ea9018410",
   "metadata": {},
   "outputs": [
    {
     "data": {
      "text/plain": [
       "(3, 9, 1)"
      ]
     },
     "execution_count": 36,
     "metadata": {},
     "output_type": "execute_result"
    }
   ],
   "source": [
    "#Create an additional dimension for test\n",
    "\n",
    "test_x = test_inputs[:,:,np.newaxis]\n",
    "\n",
    "test_x.shape "
   ]
  },
  {
   "cell_type": "code",
   "execution_count": 37,
   "id": "9871901e-4345-4d9b-a50b-0684de5781a3",
   "metadata": {},
   "outputs": [
    {
     "data": {
      "text/html": [
       "<div>\n",
       "<style scoped>\n",
       "    .dataframe tbody tr th:only-of-type {\n",
       "        vertical-align: middle;\n",
       "    }\n",
       "\n",
       "    .dataframe tbody tr th {\n",
       "        vertical-align: top;\n",
       "    }\n",
       "\n",
       "    .dataframe thead th {\n",
       "        text-align: right;\n",
       "    }\n",
       "</style>\n",
       "<table border=\"1\" class=\"dataframe\">\n",
       "  <thead>\n",
       "    <tr style=\"text-align: right;\">\n",
       "      <th></th>\n",
       "      <th>9</th>\n",
       "    </tr>\n",
       "  </thead>\n",
       "  <tbody>\n",
       "    <tr>\n",
       "      <th>0</th>\n",
       "      <td>1.237564</td>\n",
       "    </tr>\n",
       "    <tr>\n",
       "      <th>1</th>\n",
       "      <td>-0.644906</td>\n",
       "    </tr>\n",
       "    <tr>\n",
       "      <th>2</th>\n",
       "      <td>0.123449</td>\n",
       "    </tr>\n",
       "  </tbody>\n",
       "</table>\n",
       "</div>"
      ],
      "text/plain": [
       "          9\n",
       "0  1.237564\n",
       "1 -0.644906\n",
       "2  0.123449"
      ]
     },
     "execution_count": 37,
     "metadata": {},
     "output_type": "execute_result"
    }
   ],
   "source": [
    "test_target = test[:,-1]\n",
    "\n",
    "\n",
    "pd.DataFrame(test_target, columns=['9'])"
   ]
  },
  {
   "cell_type": "code",
   "execution_count": 38,
   "id": "91f66bbe-052b-4590-b20c-4884d9be9b59",
   "metadata": {},
   "outputs": [],
   "source": [
    "performance = pd.DataFrame({\"model\":[], \"MSE\":[]})"
   ]
  },
  {
   "cell_type": "markdown",
   "id": "91286211-5d75-4d8c-9fd8-14886daa2792",
   "metadata": {},
   "source": [
    "# A normal (cross-sectional) NN\n",
    "\n",
    "This model assumes that the data is NOT a time-series data set. It treats the data as cross-sectional and the columns being independent of each other."
   ]
  },
  {
   "cell_type": "code",
   "execution_count": 39,
   "id": "efb2eb6f-fb78-4b42-8d35-83b27168cd51",
   "metadata": {},
   "outputs": [
    {
     "name": "stdout",
     "output_type": "stream",
     "text": [
      "Epoch 1/100\n",
      "1/1 [==============================] - 1s 1s/step - loss: 1.9176\n",
      "Epoch 2/100\n",
      "1/1 [==============================] - 0s 9ms/step - loss: 1.8542\n",
      "Epoch 3/100\n",
      "1/1 [==============================] - 0s 6ms/step - loss: 1.7917\n",
      "Epoch 4/100\n",
      "1/1 [==============================] - 0s 6ms/step - loss: 1.7305\n",
      "Epoch 5/100\n",
      "1/1 [==============================] - 0s 6ms/step - loss: 1.6707\n",
      "Epoch 6/100\n",
      "1/1 [==============================] - 0s 6ms/step - loss: 1.6124\n",
      "Epoch 7/100\n",
      "1/1 [==============================] - 0s 21ms/step - loss: 1.5556\n",
      "Epoch 8/100\n",
      "1/1 [==============================] - 0s 5ms/step - loss: 1.4995\n",
      "Epoch 9/100\n",
      "1/1 [==============================] - 0s 17ms/step - loss: 1.4449\n",
      "Epoch 10/100\n",
      "1/1 [==============================] - 0s 5ms/step - loss: 1.3918\n",
      "Epoch 11/100\n",
      "1/1 [==============================] - 0s 8ms/step - loss: 1.3401\n",
      "Epoch 12/100\n",
      "1/1 [==============================] - 0s 18ms/step - loss: 1.2889\n",
      "Epoch 13/100\n",
      "1/1 [==============================] - 0s 5ms/step - loss: 1.2364\n",
      "Epoch 14/100\n",
      "1/1 [==============================] - 0s 10ms/step - loss: 1.1850\n",
      "Epoch 15/100\n",
      "1/1 [==============================] - 0s 12ms/step - loss: 1.1351\n",
      "Epoch 16/100\n",
      "1/1 [==============================] - 0s 6ms/step - loss: 1.0866\n",
      "Epoch 17/100\n",
      "1/1 [==============================] - 0s 5ms/step - loss: 1.0397\n",
      "Epoch 18/100\n",
      "1/1 [==============================] - 0s 6ms/step - loss: 0.9950\n",
      "Epoch 19/100\n",
      "1/1 [==============================] - 0s 5ms/step - loss: 0.9520\n",
      "Epoch 20/100\n",
      "1/1 [==============================] - 0s 5ms/step - loss: 0.9106\n",
      "Epoch 21/100\n",
      "1/1 [==============================] - 0s 5ms/step - loss: 0.8708\n",
      "Epoch 22/100\n",
      "1/1 [==============================] - 0s 19ms/step - loss: 0.8326\n",
      "Epoch 23/100\n",
      "1/1 [==============================] - 0s 22ms/step - loss: 0.7960\n",
      "Epoch 24/100\n",
      "1/1 [==============================] - 0s 7ms/step - loss: 0.7613\n",
      "Epoch 25/100\n",
      "1/1 [==============================] - 0s 10ms/step - loss: 0.7282\n",
      "Epoch 26/100\n",
      "1/1 [==============================] - 0s 26ms/step - loss: 0.6966\n",
      "Epoch 27/100\n",
      "1/1 [==============================] - 0s 18ms/step - loss: 0.6665\n",
      "Epoch 28/100\n",
      "1/1 [==============================] - 0s 7ms/step - loss: 0.6380\n",
      "Epoch 29/100\n",
      "1/1 [==============================] - 0s 6ms/step - loss: 0.6109\n",
      "Epoch 30/100\n",
      "1/1 [==============================] - 0s 7ms/step - loss: 0.5852\n",
      "Epoch 31/100\n",
      "1/1 [==============================] - 0s 8ms/step - loss: 0.5608\n",
      "Epoch 32/100\n",
      "1/1 [==============================] - 0s 29ms/step - loss: 0.5381\n",
      "Epoch 33/100\n",
      "1/1 [==============================] - 0s 9ms/step - loss: 0.5167\n",
      "Epoch 34/100\n",
      "1/1 [==============================] - 0s 8ms/step - loss: 0.4964\n",
      "Epoch 35/100\n",
      "1/1 [==============================] - 0s 6ms/step - loss: 0.4771\n",
      "Epoch 36/100\n",
      "1/1 [==============================] - 0s 8ms/step - loss: 0.4591\n",
      "Epoch 37/100\n",
      "1/1 [==============================] - 0s 11ms/step - loss: 0.4425\n",
      "Epoch 38/100\n",
      "1/1 [==============================] - 0s 11ms/step - loss: 0.4267\n",
      "Epoch 39/100\n",
      "1/1 [==============================] - 0s 10ms/step - loss: 0.4118\n",
      "Epoch 40/100\n",
      "1/1 [==============================] - 0s 7ms/step - loss: 0.3977\n",
      "Epoch 41/100\n",
      "1/1 [==============================] - 0s 7ms/step - loss: 0.3843\n",
      "Epoch 42/100\n",
      "1/1 [==============================] - 0s 10ms/step - loss: 0.3717\n",
      "Epoch 43/100\n",
      "1/1 [==============================] - 0s 8ms/step - loss: 0.3598\n",
      "Epoch 44/100\n",
      "1/1 [==============================] - 0s 7ms/step - loss: 0.3484\n",
      "Epoch 45/100\n",
      "1/1 [==============================] - 0s 18ms/step - loss: 0.3377\n",
      "Epoch 46/100\n",
      "1/1 [==============================] - 0s 10ms/step - loss: 0.3274\n",
      "Epoch 47/100\n",
      "1/1 [==============================] - 0s 10ms/step - loss: 0.3177\n",
      "Epoch 48/100\n",
      "1/1 [==============================] - 0s 7ms/step - loss: 0.3084\n",
      "Epoch 49/100\n",
      "1/1 [==============================] - 0s 10ms/step - loss: 0.2997\n",
      "Epoch 50/100\n",
      "1/1 [==============================] - 0s 15ms/step - loss: 0.2915\n",
      "Epoch 51/100\n",
      "1/1 [==============================] - 0s 17ms/step - loss: 0.2837\n",
      "Epoch 52/100\n",
      "1/1 [==============================] - 0s 9ms/step - loss: 0.2762\n",
      "Epoch 53/100\n",
      "1/1 [==============================] - 0s 8ms/step - loss: 0.2689\n",
      "Epoch 54/100\n",
      "1/1 [==============================] - 0s 15ms/step - loss: 0.2620\n",
      "Epoch 55/100\n",
      "1/1 [==============================] - 0s 9ms/step - loss: 0.2553\n",
      "Epoch 56/100\n",
      "1/1 [==============================] - 0s 21ms/step - loss: 0.2488\n",
      "Epoch 57/100\n",
      "1/1 [==============================] - 0s 39ms/step - loss: 0.2426\n",
      "Epoch 58/100\n",
      "1/1 [==============================] - 0s 9ms/step - loss: 0.2365\n",
      "Epoch 59/100\n",
      "1/1 [==============================] - 0s 17ms/step - loss: 0.2306\n",
      "Epoch 60/100\n",
      "1/1 [==============================] - 0s 12ms/step - loss: 0.2249\n",
      "Epoch 61/100\n",
      "1/1 [==============================] - 0s 21ms/step - loss: 0.2194\n",
      "Epoch 62/100\n",
      "1/1 [==============================] - 0s 40ms/step - loss: 0.2140\n",
      "Epoch 63/100\n",
      "1/1 [==============================] - 0s 10ms/step - loss: 0.2087\n",
      "Epoch 64/100\n",
      "1/1 [==============================] - 0s 11ms/step - loss: 0.2036\n",
      "Epoch 65/100\n",
      "1/1 [==============================] - 0s 14ms/step - loss: 0.1986\n",
      "Epoch 66/100\n",
      "1/1 [==============================] - 0s 24ms/step - loss: 0.1937\n",
      "Epoch 67/100\n",
      "1/1 [==============================] - 0s 10ms/step - loss: 0.1890\n",
      "Epoch 68/100\n",
      "1/1 [==============================] - 0s 16ms/step - loss: 0.1843\n",
      "Epoch 69/100\n",
      "1/1 [==============================] - 0s 12ms/step - loss: 0.1798\n",
      "Epoch 70/100\n",
      "1/1 [==============================] - 0s 35ms/step - loss: 0.1754\n",
      "Epoch 71/100\n",
      "1/1 [==============================] - 0s 25ms/step - loss: 0.1711\n",
      "Epoch 72/100\n",
      "1/1 [==============================] - 0s 18ms/step - loss: 0.1669\n",
      "Epoch 73/100\n",
      "1/1 [==============================] - 0s 17ms/step - loss: 0.1629\n",
      "Epoch 74/100\n",
      "1/1 [==============================] - 0s 20ms/step - loss: 0.1589\n",
      "Epoch 75/100\n",
      "1/1 [==============================] - 0s 17ms/step - loss: 0.1551\n",
      "Epoch 76/100\n",
      "1/1 [==============================] - 0s 23ms/step - loss: 0.1513\n",
      "Epoch 77/100\n",
      "1/1 [==============================] - 0s 31ms/step - loss: 0.1477\n",
      "Epoch 78/100\n",
      "1/1 [==============================] - 0s 21ms/step - loss: 0.1442\n",
      "Epoch 79/100\n",
      "1/1 [==============================] - 0s 13ms/step - loss: 0.1407\n",
      "Epoch 80/100\n",
      "1/1 [==============================] - 0s 13ms/step - loss: 0.1374\n",
      "Epoch 81/100\n",
      "1/1 [==============================] - 0s 17ms/step - loss: 0.1341\n",
      "Epoch 82/100\n",
      "1/1 [==============================] - 0s 19ms/step - loss: 0.1310\n",
      "Epoch 83/100\n",
      "1/1 [==============================] - 0s 12ms/step - loss: 0.1279\n",
      "Epoch 84/100\n",
      "1/1 [==============================] - 0s 13ms/step - loss: 0.1250\n",
      "Epoch 85/100\n",
      "1/1 [==============================] - 0s 16ms/step - loss: 0.1221\n",
      "Epoch 86/100\n",
      "1/1 [==============================] - 0s 20ms/step - loss: 0.1193\n",
      "Epoch 87/100\n",
      "1/1 [==============================] - 0s 15ms/step - loss: 0.1166\n",
      "Epoch 88/100\n",
      "1/1 [==============================] - 0s 23ms/step - loss: 0.1139\n",
      "Epoch 89/100\n",
      "1/1 [==============================] - 0s 16ms/step - loss: 0.1114\n",
      "Epoch 90/100\n",
      "1/1 [==============================] - 0s 21ms/step - loss: 0.1088\n",
      "Epoch 91/100\n",
      "1/1 [==============================] - 0s 14ms/step - loss: 0.1064\n",
      "Epoch 92/100\n",
      "1/1 [==============================] - 0s 20ms/step - loss: 0.1040\n",
      "Epoch 93/100\n",
      "1/1 [==============================] - 0s 13ms/step - loss: 0.1016\n",
      "Epoch 94/100\n",
      "1/1 [==============================] - 0s 11ms/step - loss: 0.0993\n",
      "Epoch 95/100\n",
      "1/1 [==============================] - 0s 29ms/step - loss: 0.0971\n",
      "Epoch 96/100\n",
      "1/1 [==============================] - 0s 11ms/step - loss: 0.0949\n",
      "Epoch 97/100\n",
      "1/1 [==============================] - 0s 12ms/step - loss: 0.0928\n",
      "Epoch 98/100\n",
      "1/1 [==============================] - 0s 13ms/step - loss: 0.0907\n",
      "Epoch 99/100\n",
      "1/1 [==============================] - 0s 18ms/step - loss: 0.0886\n",
      "Epoch 100/100\n",
      "1/1 [==============================] - 0s 12ms/step - loss: 0.0866\n"
     ]
    }
   ],
   "source": [
    "model = keras.models.Sequential([\n",
    "    keras.layers.Flatten(input_shape=[9, 1]),\n",
    "    keras.layers.Dense(23, activation='relu'),\n",
    "    keras.layers.Dense(1, activation=None)\n",
    "    \n",
    "])\n",
    "\n",
    "model.compile(loss=\"mse\", optimizer='Adam')\n",
    "\n",
    "history = model.fit(train_x, train_target, epochs=100)"
   ]
  },
  {
   "cell_type": "markdown",
   "id": "ed48329a-2723-43bc-b2df-86fc6f2a8715",
   "metadata": {},
   "source": [
    "### Predictions"
   ]
  },
  {
   "cell_type": "code",
   "execution_count": 40,
   "id": "5a07419d-7472-44bc-8461-485bbead5ea8",
   "metadata": {},
   "outputs": [
    {
     "name": "stdout",
     "output_type": "stream",
     "text": [
      "1/1 [==============================] - 0s 175ms/step\n"
     ]
    }
   ],
   "source": [
    "#Predict:\n",
    "y_pred = model.predict(test_x)"
   ]
  },
  {
   "cell_type": "code",
   "execution_count": 41,
   "id": "4c08a8f3-0414-4999-a2c7-1d20b09013fa",
   "metadata": {},
   "outputs": [],
   "source": [
    "# Remember, these are standardized values. \n",
    "\n",
    "comparison = pd.DataFrame()\n",
    "\n",
    "comparison['actual'] = scaler.inverse_transform([test_target]).flatten()\n",
    "comparison['predicted'] = scaler.inverse_transform(y_pred).flatten()"
   ]
  },
  {
   "cell_type": "code",
   "execution_count": 42,
   "id": "e5c5aec4-a38b-4de5-8934-e5c85770a99d",
   "metadata": {},
   "outputs": [
    {
     "data": {
      "text/html": [
       "<div>\n",
       "<style scoped>\n",
       "    .dataframe tbody tr th:only-of-type {\n",
       "        vertical-align: middle;\n",
       "    }\n",
       "\n",
       "    .dataframe tbody tr th {\n",
       "        vertical-align: top;\n",
       "    }\n",
       "\n",
       "    .dataframe thead th {\n",
       "        text-align: right;\n",
       "    }\n",
       "</style>\n",
       "<table border=\"1\" class=\"dataframe\">\n",
       "  <thead>\n",
       "    <tr style=\"text-align: right;\">\n",
       "      <th></th>\n",
       "      <th>actual</th>\n",
       "      <th>predicted</th>\n",
       "    </tr>\n",
       "  </thead>\n",
       "  <tbody>\n",
       "    <tr>\n",
       "      <th>0</th>\n",
       "      <td>20.110001</td>\n",
       "      <td>20.098734</td>\n",
       "    </tr>\n",
       "    <tr>\n",
       "      <th>1</th>\n",
       "      <td>18.639999</td>\n",
       "      <td>19.626362</td>\n",
       "    </tr>\n",
       "    <tr>\n",
       "      <th>2</th>\n",
       "      <td>19.240000</td>\n",
       "      <td>18.793509</td>\n",
       "    </tr>\n",
       "  </tbody>\n",
       "</table>\n",
       "</div>"
      ],
      "text/plain": [
       "      actual  predicted\n",
       "0  20.110001  20.098734\n",
       "1  18.639999  19.626362\n",
       "2  19.240000  18.793509"
      ]
     },
     "execution_count": 42,
     "metadata": {},
     "output_type": "execute_result"
    }
   ],
   "source": [
    "comparison"
   ]
  },
  {
   "cell_type": "code",
   "execution_count": 43,
   "id": "4b5232e2-b3ab-47e8-8fad-ef8b1c9c9845",
   "metadata": {},
   "outputs": [],
   "source": [
    "cs_nn = mean_squared_error(comparison['actual'], comparison['predicted'])"
   ]
  },
  {
   "cell_type": "code",
   "execution_count": 44,
   "id": "13f63870-4d7f-4339-a159-46038de84bda",
   "metadata": {},
   "outputs": [
    {
     "data": {
      "text/html": [
       "<div>\n",
       "<style scoped>\n",
       "    .dataframe tbody tr th:only-of-type {\n",
       "        vertical-align: middle;\n",
       "    }\n",
       "\n",
       "    .dataframe tbody tr th {\n",
       "        vertical-align: top;\n",
       "    }\n",
       "\n",
       "    .dataframe thead th {\n",
       "        text-align: right;\n",
       "    }\n",
       "</style>\n",
       "<table border=\"1\" class=\"dataframe\">\n",
       "  <thead>\n",
       "    <tr style=\"text-align: right;\">\n",
       "      <th></th>\n",
       "      <th>model</th>\n",
       "      <th>MSE</th>\n",
       "    </tr>\n",
       "  </thead>\n",
       "  <tbody>\n",
       "    <tr>\n",
       "      <th>0</th>\n",
       "      <td>Cross NN</td>\n",
       "      <td>0.390798</td>\n",
       "    </tr>\n",
       "  </tbody>\n",
       "</table>\n",
       "</div>"
      ],
      "text/plain": [
       "      model       MSE\n",
       "0  Cross NN  0.390798"
      ]
     },
     "execution_count": 44,
     "metadata": {},
     "output_type": "execute_result"
    }
   ],
   "source": [
    "performance = pd.concat([performance, pd.DataFrame({'model':\"Cross NN\", 'MSE': cs_nn}, index =[0])])\n",
    "performance"
   ]
  },
  {
   "cell_type": "code",
   "execution_count": 45,
   "id": "fc4238c0-e92e-444f-9827-5bda37479bfc",
   "metadata": {},
   "outputs": [
    {
     "data": {
      "image/png": "[encoded data removed]",
      "text/plain": [
       "<Figure size 640x480 with 1 Axes>"
      ]
     },
     "metadata": {},
     "output_type": "display_data"
    }
   ],
   "source": [
    "plt.plot(comparison['actual'], label = 'actual')\n",
    "plt.plot(comparison['predicted'], label = 'predicted')\n",
    "\n",
    "plt.legend()\n",
    "\n",
    "plt.show()"
   ]
  },
  {
   "cell_type": "markdown",
   "id": "56142ad0-e2b0-4958-869d-d0eb35d9341b",
   "metadata": {},
   "source": [
    "# Simple RNN\n",
    "\n",
    "Simplest recurrent neural network"
   ]
  },
  {
   "cell_type": "code",
   "execution_count": 46,
   "id": "f0ee5e60-a260-4d53-984e-7e224ef5a8e2",
   "metadata": {},
   "outputs": [],
   "source": [
    "model = keras.models.Sequential([\n",
    "    keras.layers.SimpleRNN(32, activation='relu', input_shape=[9, 1]),\n",
    "    keras.layers.Dense(1, activation=None)\n",
    "])"
   ]
  },
  {
   "cell_type": "code",
   "execution_count": 47,
   "id": "8703bd84-7417-4590-b729-a05cd7bd1866",
   "metadata": {
    "scrolled": true
   },
   "outputs": [
    {
     "name": "stdout",
     "output_type": "stream",
     "text": [
      "Epoch 1/30\n",
      "1/1 [==============================] - 2s 2s/step - loss: 0.5368\n",
      "Epoch 2/30\n",
      "1/1 [==============================] - 0s 7ms/step - loss: 0.5060\n",
      "Epoch 3/30\n",
      "1/1 [==============================] - 0s 12ms/step - loss: 0.4790\n",
      "Epoch 4/30\n",
      "1/1 [==============================] - 0s 17ms/step - loss: 0.4523\n",
      "Epoch 5/30\n",
      "1/1 [==============================] - 0s 6ms/step - loss: 0.4269\n",
      "Epoch 6/30\n",
      "1/1 [==============================] - 0s 16ms/step - loss: 0.4031\n",
      "Epoch 7/30\n",
      "1/1 [==============================] - 0s 12ms/step - loss: 0.3802\n",
      "Epoch 8/30\n",
      "1/1 [==============================] - 0s 19ms/step - loss: 0.3580\n",
      "Epoch 9/30\n",
      "1/1 [==============================] - 0s 6ms/step - loss: 0.3364\n",
      "Epoch 10/30\n",
      "1/1 [==============================] - 0s 14ms/step - loss: 0.3156\n",
      "Epoch 11/30\n",
      "1/1 [==============================] - 0s 8ms/step - loss: 0.2955\n",
      "Epoch 12/30\n",
      "1/1 [==============================] - 0s 10ms/step - loss: 0.2765\n",
      "Epoch 13/30\n",
      "1/1 [==============================] - 0s 20ms/step - loss: 0.2582\n",
      "Epoch 14/30\n",
      "1/1 [==============================] - 0s 11ms/step - loss: 0.2407\n",
      "Epoch 15/30\n",
      "1/1 [==============================] - 0s 15ms/step - loss: 0.2237\n",
      "Epoch 16/30\n",
      "1/1 [==============================] - 0s 9ms/step - loss: 0.2073\n",
      "Epoch 17/30\n",
      "1/1 [==============================] - 0s 13ms/step - loss: 0.1925\n",
      "Epoch 18/30\n",
      "1/1 [==============================] - 0s 7ms/step - loss: 0.1784\n",
      "Epoch 19/30\n",
      "1/1 [==============================] - 0s 19ms/step - loss: 0.1650\n",
      "Epoch 20/30\n",
      "1/1 [==============================] - 0s 14ms/step - loss: 0.1523\n",
      "Epoch 21/30\n",
      "1/1 [==============================] - 0s 47ms/step - loss: 0.1404\n",
      "Epoch 22/30\n",
      "1/1 [==============================] - 0s 20ms/step - loss: 0.1294\n",
      "Epoch 23/30\n",
      "1/1 [==============================] - 0s 18ms/step - loss: 0.1199\n",
      "Epoch 24/30\n",
      "1/1 [==============================] - 0s 11ms/step - loss: 0.1116\n",
      "Epoch 25/30\n",
      "1/1 [==============================] - 0s 18ms/step - loss: 0.1045\n",
      "Epoch 26/30\n",
      "1/1 [==============================] - 0s 16ms/step - loss: 0.0983\n",
      "Epoch 27/30\n",
      "1/1 [==============================] - 0s 15ms/step - loss: 0.0932\n",
      "Epoch 28/30\n",
      "1/1 [==============================] - 0s 55ms/step - loss: 0.0886\n",
      "Epoch 29/30\n",
      "1/1 [==============================] - 0s 12ms/step - loss: 0.0843\n",
      "Epoch 30/30\n",
      "1/1 [==============================] - 0s 11ms/step - loss: 0.0803\n"
     ]
    }
   ],
   "source": [
    "np.random.seed(42)\n",
    "t2.random.set_seed(42)\n",
    "\n",
    "model.compile(loss=\"mse\", optimizer='Adam')\n",
    "\n",
    "history = model.fit(train_x, train_target, epochs=30)"
   ]
  },
  {
   "cell_type": "markdown",
   "id": "aa1afa54-d130-4463-bd22-d43b717e3eea",
   "metadata": {},
   "source": [
    "### Predictions"
   ]
  },
  {
   "cell_type": "code",
   "execution_count": 48,
   "id": "5b43ef68-b603-400b-a01c-25a304c2d5ea",
   "metadata": {},
   "outputs": [
    {
     "name": "stdout",
     "output_type": "stream",
     "text": [
      "1/1 [==============================] - 1s 506ms/step\n"
     ]
    }
   ],
   "source": [
    "#Predict:\n",
    "y_pred = model.predict(test_x)"
   ]
  },
  {
   "cell_type": "code",
   "execution_count": 49,
   "id": "7e841d00-4fe4-491b-ac11-7a6708e704ac",
   "metadata": {},
   "outputs": [],
   "source": [
    "#Remember, these are standardized values. \n",
    "\n",
    "comparison = pd.DataFrame()\n",
    "\n",
    "comparison['actual'] = scaler.inverse_transform([test_target]).flatten()\n",
    "comparison['predicted'] = scaler.inverse_transform(y_pred).flatten()"
   ]
  },
  {
   "cell_type": "code",
   "execution_count": 50,
   "id": "1be6137a-5637-4919-b5a6-ad1b2c516cc9",
   "metadata": {},
   "outputs": [
    {
     "data": {
      "text/html": [
       "<div>\n",
       "<style scoped>\n",
       "    .dataframe tbody tr th:only-of-type {\n",
       "        vertical-align: middle;\n",
       "    }\n",
       "\n",
       "    .dataframe tbody tr th {\n",
       "        vertical-align: top;\n",
       "    }\n",
       "\n",
       "    .dataframe thead th {\n",
       "        text-align: right;\n",
       "    }\n",
       "</style>\n",
       "<table border=\"1\" class=\"dataframe\">\n",
       "  <thead>\n",
       "    <tr style=\"text-align: right;\">\n",
       "      <th></th>\n",
       "      <th>actual</th>\n",
       "      <th>predicted</th>\n",
       "    </tr>\n",
       "  </thead>\n",
       "  <tbody>\n",
       "    <tr>\n",
       "      <th>0</th>\n",
       "      <td>20.110001</td>\n",
       "      <td>20.332853</td>\n",
       "    </tr>\n",
       "    <tr>\n",
       "      <th>1</th>\n",
       "      <td>18.639999</td>\n",
       "      <td>19.534855</td>\n",
       "    </tr>\n",
       "    <tr>\n",
       "      <th>2</th>\n",
       "      <td>19.240000</td>\n",
       "      <td>18.836637</td>\n",
       "    </tr>\n",
       "  </tbody>\n",
       "</table>\n",
       "</div>"
      ],
      "text/plain": [
       "      actual  predicted\n",
       "0  20.110001  20.332853\n",
       "1  18.639999  19.534855\n",
       "2  19.240000  18.836637"
      ]
     },
     "execution_count": 50,
     "metadata": {},
     "output_type": "execute_result"
    }
   ],
   "source": [
    "comparison"
   ]
  },
  {
   "cell_type": "code",
   "execution_count": 51,
   "id": "32b18cdf-1b9c-4b9c-aa61-9d93bd7e2542",
   "metadata": {},
   "outputs": [],
   "source": [
    "s_rnn = mean_squared_error(comparison['actual'], comparison['predicted'])"
   ]
  },
  {
   "cell_type": "code",
   "execution_count": 52,
   "id": "00564cdf-9a0e-4479-9a5c-bc20578a2037",
   "metadata": {},
   "outputs": [
    {
     "data": {
      "text/html": [
       "<div>\n",
       "<style scoped>\n",
       "    .dataframe tbody tr th:only-of-type {\n",
       "        vertical-align: middle;\n",
       "    }\n",
       "\n",
       "    .dataframe tbody tr th {\n",
       "        vertical-align: top;\n",
       "    }\n",
       "\n",
       "    .dataframe thead th {\n",
       "        text-align: right;\n",
       "    }\n",
       "</style>\n",
       "<table border=\"1\" class=\"dataframe\">\n",
       "  <thead>\n",
       "    <tr style=\"text-align: right;\">\n",
       "      <th></th>\n",
       "      <th>model</th>\n",
       "      <th>MSE</th>\n",
       "    </tr>\n",
       "  </thead>\n",
       "  <tbody>\n",
       "    <tr>\n",
       "      <th>0</th>\n",
       "      <td>Cross NN</td>\n",
       "      <td>0.390798</td>\n",
       "    </tr>\n",
       "    <tr>\n",
       "      <th>0</th>\n",
       "      <td>Simple RNN</td>\n",
       "      <td>0.337711</td>\n",
       "    </tr>\n",
       "  </tbody>\n",
       "</table>\n",
       "</div>"
      ],
      "text/plain": [
       "        model       MSE\n",
       "0    Cross NN  0.390798\n",
       "0  Simple RNN  0.337711"
      ]
     },
     "execution_count": 52,
     "metadata": {},
     "output_type": "execute_result"
    }
   ],
   "source": [
    "performance = pd.concat([performance, pd.DataFrame({'model':\"Simple RNN\", 'MSE' : s_rnn}, index =[0])])\n",
    "performance"
   ]
  },
  {
   "cell_type": "code",
   "execution_count": 53,
   "id": "0618bf22-c419-4e62-8316-746c97d0c9ef",
   "metadata": {},
   "outputs": [
    {
     "data": {
      "image/png": "[encoded data removed]",
      "text/plain": [
       "<Figure size 640x480 with 1 Axes>"
      ]
     },
     "metadata": {},
     "output_type": "display_data"
    }
   ],
   "source": [
    "plt.plot(comparison['actual'], label = 'actual')\n",
    "plt.plot(comparison['predicted'], label = 'predicted')\n",
    "\n",
    "plt.legend()\n",
    "\n",
    "plt.show()"
   ]
  },
  {
   "cell_type": "markdown",
   "id": "ece1e5b1-94d2-4c1a-9432-7b56a5399a37",
   "metadata": {},
   "source": [
    "## Simple RNN with more layers\n",
    "\n",
    "**Be careful: when stacking RNN layers, you have to set \"return_sequences\" to True. This enables the layer to send a \"sequence\" of values to the next layer -- jut like how it uses a sequence of values for training. However, if the output of RNN is sent to a DENSE layer, then a single value should be sent. That's why there is no \"return sequences\" right before DENSE layers.**"
   ]
  },
  {
   "cell_type": "code",
   "execution_count": 54,
   "id": "2c7abc87-9463-4dc8-981f-625e111de767",
   "metadata": {},
   "outputs": [],
   "source": [
    "model = keras.models.Sequential([\n",
    "    keras.layers.SimpleRNN(32, activation='relu', return_sequences=True, input_shape=[9, 1]),\n",
    "    keras.layers.SimpleRNN(32, activation='relu', return_sequences=False),\n",
    "    keras.layers.Dense(1, activation=None)\n",
    "])"
   ]
  },
  {
   "cell_type": "code",
   "execution_count": 55,
   "id": "a251b8a2-9c98-4b6f-a2bd-c213be057bf0",
   "metadata": {
    "scrolled": true
   },
   "outputs": [
    {
     "name": "stdout",
     "output_type": "stream",
     "text": [
      "Epoch 1/30\n",
      "1/1 [==============================] - 3s 3s/step - loss: 0.7852\n",
      "Epoch 2/30\n",
      "1/1 [==============================] - 0s 22ms/step - loss: 0.6917\n",
      "Epoch 3/30\n",
      "1/1 [==============================] - 0s 18ms/step - loss: 0.6173\n",
      "Epoch 4/30\n",
      "1/1 [==============================] - 0s 13ms/step - loss: 0.5518\n",
      "Epoch 5/30\n",
      "1/1 [==============================] - 0s 18ms/step - loss: 0.4959\n",
      "Epoch 6/30\n",
      "1/1 [==============================] - 0s 13ms/step - loss: 0.4535\n",
      "Epoch 7/30\n",
      "1/1 [==============================] - 0s 46ms/step - loss: 0.4192\n",
      "Epoch 8/30\n",
      "1/1 [==============================] - 0s 20ms/step - loss: 0.3843\n",
      "Epoch 9/30\n",
      "1/1 [==============================] - 0s 20ms/step - loss: 0.3480\n",
      "Epoch 10/30\n",
      "1/1 [==============================] - 0s 24ms/step - loss: 0.3118\n",
      "Epoch 11/30\n",
      "1/1 [==============================] - 0s 10ms/step - loss: 0.2772\n",
      "Epoch 12/30\n",
      "1/1 [==============================] - 0s 18ms/step - loss: 0.2447\n",
      "Epoch 13/30\n",
      "1/1 [==============================] - 0s 12ms/step - loss: 0.2171\n",
      "Epoch 14/30\n",
      "1/1 [==============================] - 0s 18ms/step - loss: 0.1940\n",
      "Epoch 15/30\n",
      "1/1 [==============================] - 0s 11ms/step - loss: 0.1738\n",
      "Epoch 16/30\n",
      "1/1 [==============================] - 0s 12ms/step - loss: 0.1550\n",
      "Epoch 17/30\n",
      "1/1 [==============================] - 0s 19ms/step - loss: 0.1363\n",
      "Epoch 18/30\n",
      "1/1 [==============================] - 0s 16ms/step - loss: 0.1186\n",
      "Epoch 19/30\n",
      "1/1 [==============================] - 0s 11ms/step - loss: 0.1033\n",
      "Epoch 20/30\n",
      "1/1 [==============================] - 0s 11ms/step - loss: 0.0899\n",
      "Epoch 21/30\n",
      "1/1 [==============================] - 0s 28ms/step - loss: 0.0780\n",
      "Epoch 22/30\n",
      "1/1 [==============================] - 0s 11ms/step - loss: 0.0666\n",
      "Epoch 23/30\n",
      "1/1 [==============================] - 0s 16ms/step - loss: 0.0556\n",
      "Epoch 24/30\n",
      "1/1 [==============================] - 0s 12ms/step - loss: 0.0458\n",
      "Epoch 25/30\n",
      "1/1 [==============================] - 0s 15ms/step - loss: 0.0377\n",
      "Epoch 26/30\n",
      "1/1 [==============================] - 0s 37ms/step - loss: 0.0304\n",
      "Epoch 27/30\n",
      "1/1 [==============================] - 0s 11ms/step - loss: 0.0234\n",
      "Epoch 28/30\n",
      "1/1 [==============================] - 0s 15ms/step - loss: 0.0168\n",
      "Epoch 29/30\n",
      "1/1 [==============================] - 0s 8ms/step - loss: 0.0115\n",
      "Epoch 30/30\n",
      "1/1 [==============================] - 0s 11ms/step - loss: 0.0080\n"
     ]
    }
   ],
   "source": [
    "np.random.seed(42)\n",
    "t2.random.set_seed(42)\n",
    "\n",
    "model.compile(loss=\"mse\", optimizer='Adam')\n",
    "\n",
    "history = model.fit(train_x, train_target, epochs=30)"
   ]
  },
  {
   "cell_type": "markdown",
   "id": "8e352de3-6151-4d9b-a0b1-9e3296ec036e",
   "metadata": {},
   "source": [
    "### Predictions"
   ]
  },
  {
   "cell_type": "code",
   "execution_count": 56,
   "id": "d0b8301c-28f5-4975-9f7f-8af4584a2e3b",
   "metadata": {},
   "outputs": [
    {
     "name": "stdout",
     "output_type": "stream",
     "text": [
      "1/1 [==============================] - 1s 818ms/step\n"
     ]
    }
   ],
   "source": [
    "#Predict:\n",
    "y_pred = model.predict(test_x)\n"
   ]
  },
  {
   "cell_type": "code",
   "execution_count": 57,
   "id": "b66324c5-78eb-4e27-ab4f-f5d7101653ff",
   "metadata": {},
   "outputs": [],
   "source": [
    "#Remember, these are standardized values. \n",
    "\n",
    "comparison = pd.DataFrame()\n",
    "\n",
    "comparison['actual'] = scaler.inverse_transform([test_target]).flatten()\n",
    "comparison['predicted'] = scaler.inverse_transform(y_pred).flatten()"
   ]
  },
  {
   "cell_type": "code",
   "execution_count": 58,
   "id": "366a5514-134f-4e74-9c4a-2b4849b6a134",
   "metadata": {},
   "outputs": [
    {
     "data": {
      "text/html": [
       "<div>\n",
       "<style scoped>\n",
       "    .dataframe tbody tr th:only-of-type {\n",
       "        vertical-align: middle;\n",
       "    }\n",
       "\n",
       "    .dataframe tbody tr th {\n",
       "        vertical-align: top;\n",
       "    }\n",
       "\n",
       "    .dataframe thead th {\n",
       "        text-align: right;\n",
       "    }\n",
       "</style>\n",
       "<table border=\"1\" class=\"dataframe\">\n",
       "  <thead>\n",
       "    <tr style=\"text-align: right;\">\n",
       "      <th></th>\n",
       "      <th>actual</th>\n",
       "      <th>predicted</th>\n",
       "    </tr>\n",
       "  </thead>\n",
       "  <tbody>\n",
       "    <tr>\n",
       "      <th>0</th>\n",
       "      <td>20.110001</td>\n",
       "      <td>19.724728</td>\n",
       "    </tr>\n",
       "    <tr>\n",
       "      <th>1</th>\n",
       "      <td>18.639999</td>\n",
       "      <td>19.508816</td>\n",
       "    </tr>\n",
       "    <tr>\n",
       "      <th>2</th>\n",
       "      <td>19.240000</td>\n",
       "      <td>19.089840</td>\n",
       "    </tr>\n",
       "  </tbody>\n",
       "</table>\n",
       "</div>"
      ],
      "text/plain": [
       "      actual  predicted\n",
       "0  20.110001  19.724728\n",
       "1  18.639999  19.508816\n",
       "2  19.240000  19.089840"
      ]
     },
     "execution_count": 58,
     "metadata": {},
     "output_type": "execute_result"
    }
   ],
   "source": [
    "comparison"
   ]
  },
  {
   "cell_type": "code",
   "execution_count": 59,
   "id": "f8dbdb9b-840b-4274-9d11-fdf1f15fb659",
   "metadata": {},
   "outputs": [],
   "source": [
    "sml_rnn = mean_squared_error(comparison['actual'], comparison['predicted'])"
   ]
  },
  {
   "cell_type": "code",
   "execution_count": 60,
   "id": "013e9e45-9b07-4fee-8fb7-6aef63761511",
   "metadata": {},
   "outputs": [
    {
     "data": {
      "text/html": [
       "<div>\n",
       "<style scoped>\n",
       "    .dataframe tbody tr th:only-of-type {\n",
       "        vertical-align: middle;\n",
       "    }\n",
       "\n",
       "    .dataframe tbody tr th {\n",
       "        vertical-align: top;\n",
       "    }\n",
       "\n",
       "    .dataframe thead th {\n",
       "        text-align: right;\n",
       "    }\n",
       "</style>\n",
       "<table border=\"1\" class=\"dataframe\">\n",
       "  <thead>\n",
       "    <tr style=\"text-align: right;\">\n",
       "      <th></th>\n",
       "      <th>model</th>\n",
       "      <th>MSE</th>\n",
       "    </tr>\n",
       "  </thead>\n",
       "  <tbody>\n",
       "    <tr>\n",
       "      <th>0</th>\n",
       "      <td>Cross NN</td>\n",
       "      <td>0.390798</td>\n",
       "    </tr>\n",
       "    <tr>\n",
       "      <th>0</th>\n",
       "      <td>Simple RNN</td>\n",
       "      <td>0.337711</td>\n",
       "    </tr>\n",
       "    <tr>\n",
       "      <th>0</th>\n",
       "      <td>Simple RNN more layers</td>\n",
       "      <td>0.308609</td>\n",
       "    </tr>\n",
       "  </tbody>\n",
       "</table>\n",
       "</div>"
      ],
      "text/plain": [
       "                    model       MSE\n",
       "0                Cross NN  0.390798\n",
       "0              Simple RNN  0.337711\n",
       "0  Simple RNN more layers  0.308609"
      ]
     },
     "execution_count": 60,
     "metadata": {},
     "output_type": "execute_result"
    }
   ],
   "source": [
    "performance = pd.concat([performance, pd.DataFrame({'model':\"Simple RNN more layers\", 'MSE' : sml_rnn}, index =[0])])\n",
    "performance"
   ]
  },
  {
   "cell_type": "code",
   "execution_count": 61,
   "id": "06abb304-0eb2-47c3-8c12-0538168eccb1",
   "metadata": {},
   "outputs": [
    {
     "data": {
      "image/png": "[encoded data removed]",
      "text/plain": [
       "<Figure size 640x480 with 1 Axes>"
      ]
     },
     "metadata": {},
     "output_type": "display_data"
    }
   ],
   "source": [
    "plt.plot(comparison['actual'], label = 'actual')\n",
    "plt.plot(comparison['predicted'], label = 'predicted')\n",
    "\n",
    "plt.legend()\n",
    "\n",
    "plt.show()"
   ]
  },
  {
   "cell_type": "markdown",
   "id": "db38d430-866a-4e65-ba72-bcfacf15d70e",
   "metadata": {},
   "source": [
    "# LSTM with one layer"
   ]
  },
  {
   "cell_type": "code",
   "execution_count": 62,
   "id": "93647d19-a285-41c3-bb42-a65a33dc867a",
   "metadata": {
    "scrolled": true
   },
   "outputs": [],
   "source": [
    "model = keras.models.Sequential([\n",
    "    keras.layers.LSTM(32, activation='relu', input_shape=[9, 1]),\n",
    "    keras.layers.Dense(1, activation=None)\n",
    "])"
   ]
  },
  {
   "cell_type": "code",
   "execution_count": 63,
   "id": "e60a0afc-32b8-4d96-8394-f3a2d1211000",
   "metadata": {
    "scrolled": true
   },
   "outputs": [
    {
     "name": "stdout",
     "output_type": "stream",
     "text": [
      "Epoch 1/30\n",
      "1/1 [==============================] - 4s 4s/step - loss: 0.9677\n",
      "Epoch 2/30\n",
      "1/1 [==============================] - 0s 8ms/step - loss: 0.9476\n",
      "Epoch 3/30\n",
      "1/1 [==============================] - 0s 11ms/step - loss: 0.9278\n",
      "Epoch 4/30\n",
      "1/1 [==============================] - 0s 12ms/step - loss: 0.9084\n",
      "Epoch 5/30\n",
      "1/1 [==============================] - 0s 10ms/step - loss: 0.8894\n",
      "Epoch 6/30\n",
      "1/1 [==============================] - 0s 18ms/step - loss: 0.8708\n",
      "Epoch 7/30\n",
      "1/1 [==============================] - 0s 13ms/step - loss: 0.8525\n",
      "Epoch 8/30\n",
      "1/1 [==============================] - 0s 16ms/step - loss: 0.8345\n",
      "Epoch 9/30\n",
      "1/1 [==============================] - 0s 10ms/step - loss: 0.8168\n",
      "Epoch 10/30\n",
      "1/1 [==============================] - 0s 9ms/step - loss: 0.7994\n",
      "Epoch 11/30\n",
      "1/1 [==============================] - 0s 11ms/step - loss: 0.7824\n",
      "Epoch 12/30\n",
      "1/1 [==============================] - 0s 12ms/step - loss: 0.7657\n",
      "Epoch 13/30\n",
      "1/1 [==============================] - 0s 12ms/step - loss: 0.7493\n",
      "Epoch 14/30\n",
      "1/1 [==============================] - 0s 10ms/step - loss: 0.7331\n",
      "Epoch 15/30\n",
      "1/1 [==============================] - 0s 18ms/step - loss: 0.7172\n",
      "Epoch 16/30\n",
      "1/1 [==============================] - 0s 10ms/step - loss: 0.7015\n",
      "Epoch 17/30\n",
      "1/1 [==============================] - 0s 11ms/step - loss: 0.6861\n",
      "Epoch 18/30\n",
      "1/1 [==============================] - 0s 17ms/step - loss: 0.6710\n",
      "Epoch 19/30\n",
      "1/1 [==============================] - 0s 13ms/step - loss: 0.6563\n",
      "Epoch 20/30\n",
      "1/1 [==============================] - 0s 13ms/step - loss: 0.6417\n",
      "Epoch 21/30\n",
      "1/1 [==============================] - 0s 10ms/step - loss: 0.6273\n",
      "Epoch 22/30\n",
      "1/1 [==============================] - 0s 10ms/step - loss: 0.6131\n",
      "Epoch 23/30\n",
      "1/1 [==============================] - 0s 11ms/step - loss: 0.5990\n",
      "Epoch 24/30\n",
      "1/1 [==============================] - 0s 12ms/step - loss: 0.5850\n",
      "Epoch 25/30\n",
      "1/1 [==============================] - 0s 11ms/step - loss: 0.5712\n",
      "Epoch 26/30\n",
      "1/1 [==============================] - 0s 9ms/step - loss: 0.5577\n",
      "Epoch 27/30\n",
      "1/1 [==============================] - 0s 11ms/step - loss: 0.5445\n",
      "Epoch 28/30\n",
      "1/1 [==============================] - 0s 12ms/step - loss: 0.5314\n",
      "Epoch 29/30\n",
      "1/1 [==============================] - 0s 12ms/step - loss: 0.5185\n",
      "Epoch 30/30\n",
      "1/1 [==============================] - 0s 12ms/step - loss: 0.5059\n"
     ]
    }
   ],
   "source": [
    "np.random.seed(42)\n",
    "t2.random.set_seed(42)\n",
    "\n",
    "model.compile(loss=\"mse\", optimizer='Adam')\n",
    "\n",
    "history = model.fit(train_x, train_target, epochs=30)"
   ]
  },
  {
   "cell_type": "markdown",
   "id": "abbc5849-666a-4bb4-aa49-68908cec8516",
   "metadata": {},
   "source": [
    "### Predictions"
   ]
  },
  {
   "cell_type": "code",
   "execution_count": 64,
   "id": "9835e866-472d-4737-b0b1-b4b41644aeb9",
   "metadata": {},
   "outputs": [
    {
     "name": "stdout",
     "output_type": "stream",
     "text": [
      "1/1 [==============================] - 0s 325ms/step\n"
     ]
    }
   ],
   "source": [
    "#Predict:\n",
    "y_pred = model.predict(test_x)\n"
   ]
  },
  {
   "cell_type": "code",
   "execution_count": 65,
   "id": "899c4d7f-08bb-4bdc-af75-f674f96e2851",
   "metadata": {},
   "outputs": [],
   "source": [
    "#Remember, these are standardized values. \n",
    "\n",
    "comparison = pd.DataFrame()\n",
    "\n",
    "comparison['actual'] = scaler.inverse_transform([test_target]).flatten()\n",
    "comparison['predicted'] = scaler.inverse_transform(y_pred).flatten()"
   ]
  },
  {
   "cell_type": "code",
   "execution_count": 66,
   "id": "16a72225-1b22-4c69-a5b4-52c4a866a463",
   "metadata": {},
   "outputs": [],
   "source": [
    "lstm_1 = mean_squared_error(comparison['actual'], comparison['predicted'])"
   ]
  },
  {
   "cell_type": "code",
   "execution_count": 67,
   "id": "caaf86ae-04ac-4c4f-aae4-98f65e4f038a",
   "metadata": {},
   "outputs": [
    {
     "data": {
      "text/html": [
       "<div>\n",
       "<style scoped>\n",
       "    .dataframe tbody tr th:only-of-type {\n",
       "        vertical-align: middle;\n",
       "    }\n",
       "\n",
       "    .dataframe tbody tr th {\n",
       "        vertical-align: top;\n",
       "    }\n",
       "\n",
       "    .dataframe thead th {\n",
       "        text-align: right;\n",
       "    }\n",
       "</style>\n",
       "<table border=\"1\" class=\"dataframe\">\n",
       "  <thead>\n",
       "    <tr style=\"text-align: right;\">\n",
       "      <th></th>\n",
       "      <th>model</th>\n",
       "      <th>MSE</th>\n",
       "    </tr>\n",
       "  </thead>\n",
       "  <tbody>\n",
       "    <tr>\n",
       "      <th>0</th>\n",
       "      <td>Cross NN</td>\n",
       "      <td>0.390798</td>\n",
       "    </tr>\n",
       "    <tr>\n",
       "      <th>0</th>\n",
       "      <td>Simple RNN</td>\n",
       "      <td>0.337711</td>\n",
       "    </tr>\n",
       "    <tr>\n",
       "      <th>0</th>\n",
       "      <td>Simple RNN more layers</td>\n",
       "      <td>0.308609</td>\n",
       "    </tr>\n",
       "    <tr>\n",
       "      <th>0</th>\n",
       "      <td>LSTM</td>\n",
       "      <td>0.394073</td>\n",
       "    </tr>\n",
       "  </tbody>\n",
       "</table>\n",
       "</div>"
      ],
      "text/plain": [
       "                    model       MSE\n",
       "0                Cross NN  0.390798\n",
       "0              Simple RNN  0.337711\n",
       "0  Simple RNN more layers  0.308609\n",
       "0                    LSTM  0.394073"
      ]
     },
     "execution_count": 67,
     "metadata": {},
     "output_type": "execute_result"
    }
   ],
   "source": [
    "performance = pd.concat([performance, pd.DataFrame({'model':\"LSTM\", 'MSE' : lstm_1}, index =[0])])\n",
    "performance"
   ]
  },
  {
   "cell_type": "code",
   "execution_count": 68,
   "id": "734c6fb4-e69c-4b2a-9f9b-d1215f5268ad",
   "metadata": {},
   "outputs": [
    {
     "data": {
      "image/png": "[encoded data removed]",
      "text/plain": [
       "<Figure size 640x480 with 1 Axes>"
      ]
     },
     "metadata": {},
     "output_type": "display_data"
    }
   ],
   "source": [
    "plt.plot(comparison['actual'], label = 'actual')\n",
    "plt.plot(comparison['predicted'], label = 'predicted')\n",
    "\n",
    "plt.legend()\n",
    "\n",
    "plt.show()"
   ]
  },
  {
   "cell_type": "markdown",
   "id": "2da96b08-1b5d-4e6d-ae72-628f362a72b4",
   "metadata": {},
   "source": [
    "# LSTM with more layers"
   ]
  },
  {
   "cell_type": "code",
   "execution_count": 69,
   "id": "4f1212f3-5fcf-4170-9d4a-d92575eddec8",
   "metadata": {
    "scrolled": true
   },
   "outputs": [],
   "source": [
    "model = keras.models.Sequential([\n",
    "    keras.layers.LSTM(32, activation='tanh', return_sequences=True, input_shape=[9, 1]),\n",
    "    keras.layers.LSTM(32, activation='tanh', return_sequences=False),\n",
    "    keras.layers.Dense(1, activation=None)\n",
    "])"
   ]
  },
  {
   "cell_type": "code",
   "execution_count": 70,
   "id": "90ed0146-b8c7-4df8-b5ad-4dc096bf3998",
   "metadata": {
    "scrolled": true
   },
   "outputs": [
    {
     "name": "stdout",
     "output_type": "stream",
     "text": [
      "Epoch 1/30\n",
      "1/1 [==============================] - 11s 11s/step - loss: 0.7804\n",
      "Epoch 2/30\n",
      "1/1 [==============================] - 0s 16ms/step - loss: 0.7299\n",
      "Epoch 3/30\n",
      "1/1 [==============================] - 0s 23ms/step - loss: 0.6822\n",
      "Epoch 4/30\n",
      "1/1 [==============================] - 0s 23ms/step - loss: 0.6371\n",
      "Epoch 5/30\n",
      "1/1 [==============================] - 0s 32ms/step - loss: 0.5947\n",
      "Epoch 6/30\n",
      "1/1 [==============================] - 0s 37ms/step - loss: 0.5550\n",
      "Epoch 7/30\n",
      "1/1 [==============================] - 0s 79ms/step - loss: 0.5181\n",
      "Epoch 8/30\n",
      "1/1 [==============================] - 0s 39ms/step - loss: 0.4841\n",
      "Epoch 9/30\n",
      "1/1 [==============================] - 0s 34ms/step - loss: 0.4533\n",
      "Epoch 10/30\n",
      "1/1 [==============================] - 0s 35ms/step - loss: 0.4257\n",
      "Epoch 11/30\n",
      "1/1 [==============================] - 0s 25ms/step - loss: 0.4018\n",
      "Epoch 12/30\n",
      "1/1 [==============================] - 0s 25ms/step - loss: 0.3819\n",
      "Epoch 13/30\n",
      "1/1 [==============================] - 0s 22ms/step - loss: 0.3664\n",
      "Epoch 14/30\n",
      "1/1 [==============================] - 0s 21ms/step - loss: 0.3556\n",
      "Epoch 15/30\n",
      "1/1 [==============================] - 0s 41ms/step - loss: 0.3496\n",
      "Epoch 16/30\n",
      "1/1 [==============================] - 0s 34ms/step - loss: 0.3481\n",
      "Epoch 17/30\n",
      "1/1 [==============================] - 0s 29ms/step - loss: 0.3500\n",
      "Epoch 18/30\n",
      "1/1 [==============================] - 0s 32ms/step - loss: 0.3537\n",
      "Epoch 19/30\n",
      "1/1 [==============================] - 0s 46ms/step - loss: 0.3573\n",
      "Epoch 20/30\n",
      "1/1 [==============================] - 0s 46ms/step - loss: 0.3591\n",
      "Epoch 21/30\n",
      "1/1 [==============================] - 0s 32ms/step - loss: 0.3583\n",
      "Epoch 22/30\n",
      "1/1 [==============================] - 0s 24ms/step - loss: 0.3550\n",
      "Epoch 23/30\n",
      "1/1 [==============================] - 0s 46ms/step - loss: 0.3497\n",
      "Epoch 24/30\n",
      "1/1 [==============================] - 0s 40ms/step - loss: 0.3436\n",
      "Epoch 25/30\n",
      "1/1 [==============================] - 0s 25ms/step - loss: 0.3374\n",
      "Epoch 26/30\n",
      "1/1 [==============================] - 0s 23ms/step - loss: 0.3319\n",
      "Epoch 27/30\n",
      "1/1 [==============================] - 0s 21ms/step - loss: 0.3275\n",
      "Epoch 28/30\n",
      "1/1 [==============================] - 0s 26ms/step - loss: 0.3242\n",
      "Epoch 29/30\n",
      "1/1 [==============================] - 0s 16ms/step - loss: 0.3217\n",
      "Epoch 30/30\n",
      "1/1 [==============================] - 0s 19ms/step - loss: 0.3200\n"
     ]
    }
   ],
   "source": [
    "np.random.seed(42)\n",
    "t2.random.set_seed(42)\n",
    "\n",
    "model.compile(loss=\"mse\", optimizer='Adam')\n",
    "\n",
    "history = model.fit(train_x, train_target, epochs=30)"
   ]
  },
  {
   "cell_type": "markdown",
   "id": "84f29eab-53d7-4285-a4f7-404ff7b74b74",
   "metadata": {},
   "source": [
    "### Predictions"
   ]
  },
  {
   "cell_type": "code",
   "execution_count": 71,
   "id": "5a7456fc-ea8c-4d9d-a7d7-9ce41c4ef3e5",
   "metadata": {},
   "outputs": [
    {
     "name": "stdout",
     "output_type": "stream",
     "text": [
      "WARNING:tensorflow:5 out of the last 5 calls to <function Model.make_predict_function.<locals>.predict_function at 0x00000149C6199A60> triggered tf.function retracing. Tracing is expensive and the excessive number of tracings could be due to (1) creating @tf.function repeatedly in a loop, (2) passing tensors with different shapes, (3) passing Python objects instead of tensors. For (1), please define your @tf.function outside of the loop. For (2), @tf.function has reduce_retracing=True option that can avoid unnecessary retracing. For (3), please refer to https://www.tensorflow.org/guide/function#controlling_retracing and https://www.tensorflow.org/api_docs/python/tf/function for  more details.\n",
      "1/1 [==============================] - 3s 3s/step\n"
     ]
    }
   ],
   "source": [
    "#Predict:\n",
    "y_pred = model.predict(test_x)"
   ]
  },
  {
   "cell_type": "code",
   "execution_count": 72,
   "id": "23681b39-ae5d-4ceb-aeb4-368a9f79861a",
   "metadata": {},
   "outputs": [],
   "source": [
    "#Remember, these are standardized values. \n",
    "\n",
    "comparison = pd.DataFrame()\n",
    "\n",
    "comparison['actual'] = scaler.inverse_transform([test_target]).flatten()\n",
    "comparison['predicted'] = scaler.inverse_transform(y_pred).flatten()"
   ]
  },
  {
   "cell_type": "code",
   "execution_count": 73,
   "id": "1d83a363-29b8-4b72-95fb-0985388e76ef",
   "metadata": {},
   "outputs": [],
   "source": [
    "lstm = mean_squared_error(comparison['actual'], comparison['predicted'])"
   ]
  },
  {
   "cell_type": "code",
   "execution_count": 74,
   "id": "5294a209-831b-4fcb-aa3a-5583571cd825",
   "metadata": {},
   "outputs": [
    {
     "data": {
      "text/html": [
       "<div>\n",
       "<style scoped>\n",
       "    .dataframe tbody tr th:only-of-type {\n",
       "        vertical-align: middle;\n",
       "    }\n",
       "\n",
       "    .dataframe tbody tr th {\n",
       "        vertical-align: top;\n",
       "    }\n",
       "\n",
       "    .dataframe thead th {\n",
       "        text-align: right;\n",
       "    }\n",
       "</style>\n",
       "<table border=\"1\" class=\"dataframe\">\n",
       "  <thead>\n",
       "    <tr style=\"text-align: right;\">\n",
       "      <th></th>\n",
       "      <th>model</th>\n",
       "      <th>MSE</th>\n",
       "    </tr>\n",
       "  </thead>\n",
       "  <tbody>\n",
       "    <tr>\n",
       "      <th>0</th>\n",
       "      <td>Cross NN</td>\n",
       "      <td>0.390798</td>\n",
       "    </tr>\n",
       "    <tr>\n",
       "      <th>0</th>\n",
       "      <td>Simple RNN</td>\n",
       "      <td>0.337711</td>\n",
       "    </tr>\n",
       "    <tr>\n",
       "      <th>0</th>\n",
       "      <td>Simple RNN more layers</td>\n",
       "      <td>0.308609</td>\n",
       "    </tr>\n",
       "    <tr>\n",
       "      <th>0</th>\n",
       "      <td>LSTM</td>\n",
       "      <td>0.394073</td>\n",
       "    </tr>\n",
       "    <tr>\n",
       "      <th>0</th>\n",
       "      <td>lstm more layers</td>\n",
       "      <td>0.406428</td>\n",
       "    </tr>\n",
       "  </tbody>\n",
       "</table>\n",
       "</div>"
      ],
      "text/plain": [
       "                    model       MSE\n",
       "0                Cross NN  0.390798\n",
       "0              Simple RNN  0.337711\n",
       "0  Simple RNN more layers  0.308609\n",
       "0                    LSTM  0.394073\n",
       "0        lstm more layers  0.406428"
      ]
     },
     "execution_count": 74,
     "metadata": {},
     "output_type": "execute_result"
    }
   ],
   "source": [
    "performance = pd.concat([performance, pd.DataFrame({'model':\"lstm more layers\", 'MSE' : lstm}, index =[0])])\n",
    "performance"
   ]
  },
  {
   "cell_type": "code",
   "execution_count": 75,
   "id": "ff5c42c3-f977-4a57-8ac8-4ef80d15a52e",
   "metadata": {},
   "outputs": [
    {
     "data": {
      "image/png": "[encoded data removed]",
      "text/plain": [
       "<Figure size 640x480 with 1 Axes>"
      ]
     },
     "metadata": {},
     "output_type": "display_data"
    }
   ],
   "source": [
    "plt.plot(comparison['actual'], label = 'actual')\n",
    "plt.plot(comparison['predicted'], label = 'predicted')\n",
    "\n",
    "plt.legend()\n",
    "\n",
    "plt.show()"
   ]
  },
  {
   "cell_type": "markdown",
   "id": "46c5e405-10e9-43e9-8a2d-d1cc6e94d2db",
   "metadata": {},
   "source": [
    "# GRU (with more layers)"
   ]
  },
  {
   "cell_type": "code",
   "execution_count": 76,
   "id": "120586a5-46c0-4792-a0ae-11ee5f19970a",
   "metadata": {},
   "outputs": [],
   "source": [
    "model = keras.models.Sequential([\n",
    "    keras.layers.GRU(32, activation='relu', return_sequences=True, input_shape=[9, 1]),\n",
    "    keras.layers.GRU(32, activation='relu', return_sequences=False),\n",
    "    keras.layers.Dense(1, activation=None)\n",
    "])"
   ]
  },
  {
   "cell_type": "code",
   "execution_count": 77,
   "id": "c5db92fd-25d1-4188-82ec-ab66c42c2698",
   "metadata": {
    "scrolled": true
   },
   "outputs": [
    {
     "name": "stdout",
     "output_type": "stream",
     "text": [
      "Epoch 1/30\n",
      "1/1 [==============================] - 8s 8s/step - loss: 0.9152\n",
      "Epoch 2/30\n",
      "1/1 [==============================] - 0s 16ms/step - loss: 0.8303\n",
      "Epoch 3/30\n",
      "1/1 [==============================] - 0s 16ms/step - loss: 0.7781\n",
      "Epoch 4/30\n",
      "1/1 [==============================] - 0s 19ms/step - loss: 0.7368\n",
      "Epoch 5/30\n",
      "1/1 [==============================] - 0s 15ms/step - loss: 0.7043\n",
      "Epoch 6/30\n",
      "1/1 [==============================] - 0s 22ms/step - loss: 0.6740\n",
      "Epoch 7/30\n",
      "1/1 [==============================] - 0s 21ms/step - loss: 0.6446\n",
      "Epoch 8/30\n",
      "1/1 [==============================] - 0s 14ms/step - loss: 0.6171\n",
      "Epoch 9/30\n",
      "1/1 [==============================] - 0s 14ms/step - loss: 0.5911\n",
      "Epoch 10/30\n",
      "1/1 [==============================] - 0s 18ms/step - loss: 0.5658\n",
      "Epoch 11/30\n",
      "1/1 [==============================] - 0s 22ms/step - loss: 0.5420\n",
      "Epoch 12/30\n",
      "1/1 [==============================] - 0s 15ms/step - loss: 0.5186\n",
      "Epoch 13/30\n",
      "1/1 [==============================] - 0s 26ms/step - loss: 0.4962\n",
      "Epoch 14/30\n",
      "1/1 [==============================] - 0s 15ms/step - loss: 0.4752\n",
      "Epoch 15/30\n",
      "1/1 [==============================] - 0s 22ms/step - loss: 0.4549\n",
      "Epoch 16/30\n",
      "1/1 [==============================] - 0s 17ms/step - loss: 0.4356\n",
      "Epoch 17/30\n",
      "1/1 [==============================] - 0s 18ms/step - loss: 0.4170\n",
      "Epoch 18/30\n",
      "1/1 [==============================] - 0s 19ms/step - loss: 0.3991\n",
      "Epoch 19/30\n",
      "1/1 [==============================] - 0s 18ms/step - loss: 0.3817\n",
      "Epoch 20/30\n",
      "1/1 [==============================] - 0s 19ms/step - loss: 0.3649\n",
      "Epoch 21/30\n",
      "1/1 [==============================] - 0s 17ms/step - loss: 0.3482\n",
      "Epoch 22/30\n",
      "1/1 [==============================] - 0s 16ms/step - loss: 0.3315\n",
      "Epoch 23/30\n",
      "1/1 [==============================] - 0s 16ms/step - loss: 0.3160\n",
      "Epoch 24/30\n",
      "1/1 [==============================] - 0s 18ms/step - loss: 0.3011\n",
      "Epoch 25/30\n",
      "1/1 [==============================] - 0s 17ms/step - loss: 0.2869\n",
      "Epoch 26/30\n",
      "1/1 [==============================] - 0s 16ms/step - loss: 0.2733\n",
      "Epoch 27/30\n",
      "1/1 [==============================] - 0s 16ms/step - loss: 0.2604\n",
      "Epoch 28/30\n",
      "1/1 [==============================] - 0s 16ms/step - loss: 0.2480\n",
      "Epoch 29/30\n",
      "1/1 [==============================] - 0s 17ms/step - loss: 0.2362\n",
      "Epoch 30/30\n",
      "1/1 [==============================] - 0s 18ms/step - loss: 0.2252\n"
     ]
    }
   ],
   "source": [
    "np.random.seed(42)\n",
    "t2.random.set_seed(42)\n",
    "\n",
    "model.compile(loss=\"mse\", optimizer='RMSprop')\n",
    "\n",
    "history = model.fit(train_x, train_target, epochs=30)"
   ]
  },
  {
   "cell_type": "markdown",
   "id": "826c9013-11b0-48b7-b2e8-9d0b91352f2b",
   "metadata": {},
   "source": [
    "### Predictions"
   ]
  },
  {
   "cell_type": "code",
   "execution_count": 78,
   "id": "c1fce53b-30b9-4c53-8d64-01d7993ad67c",
   "metadata": {},
   "outputs": [
    {
     "name": "stdout",
     "output_type": "stream",
     "text": [
      "WARNING:tensorflow:6 out of the last 6 calls to <function Model.make_predict_function.<locals>.predict_function at 0x00000149C4E5F670> triggered tf.function retracing. Tracing is expensive and the excessive number of tracings could be due to (1) creating @tf.function repeatedly in a loop, (2) passing tensors with different shapes, (3) passing Python objects instead of tensors. For (1), please define your @tf.function outside of the loop. For (2), @tf.function has reduce_retracing=True option that can avoid unnecessary retracing. For (3), please refer to https://www.tensorflow.org/guide/function#controlling_retracing and https://www.tensorflow.org/api_docs/python/tf/function for  more details.\n",
      "1/1 [==============================] - 1s 1s/step\n"
     ]
    }
   ],
   "source": [
    "#Predict:\n",
    "y_pred = model.predict(test_x)"
   ]
  },
  {
   "cell_type": "code",
   "execution_count": 79,
   "id": "458179fa-a670-4552-b7b9-6726b520cb4e",
   "metadata": {},
   "outputs": [],
   "source": [
    "#Remember, these are standardized values. \n",
    "\n",
    "comparison = pd.DataFrame()\n",
    "\n",
    "comparison['actual'] = scaler.inverse_transform([test_target]).flatten()\n",
    "comparison['predicted'] = scaler.inverse_transform(y_pred).flatten()"
   ]
  },
  {
   "cell_type": "code",
   "execution_count": 80,
   "id": "0f9fa6fc-a2a6-4f66-aef9-7911ac63e582",
   "metadata": {},
   "outputs": [],
   "source": [
    "gru_more = mean_squared_error(comparison['actual'], comparison['predicted'])"
   ]
  },
  {
   "cell_type": "code",
   "execution_count": 81,
   "id": "7864012b-0160-4d17-a7b7-681eb822712e",
   "metadata": {},
   "outputs": [
    {
     "data": {
      "text/html": [
       "<div>\n",
       "<style scoped>\n",
       "    .dataframe tbody tr th:only-of-type {\n",
       "        vertical-align: middle;\n",
       "    }\n",
       "\n",
       "    .dataframe tbody tr th {\n",
       "        vertical-align: top;\n",
       "    }\n",
       "\n",
       "    .dataframe thead th {\n",
       "        text-align: right;\n",
       "    }\n",
       "</style>\n",
       "<table border=\"1\" class=\"dataframe\">\n",
       "  <thead>\n",
       "    <tr style=\"text-align: right;\">\n",
       "      <th></th>\n",
       "      <th>model</th>\n",
       "      <th>MSE</th>\n",
       "    </tr>\n",
       "  </thead>\n",
       "  <tbody>\n",
       "    <tr>\n",
       "      <th>0</th>\n",
       "      <td>Cross NN</td>\n",
       "      <td>0.390798</td>\n",
       "    </tr>\n",
       "    <tr>\n",
       "      <th>0</th>\n",
       "      <td>Simple RNN</td>\n",
       "      <td>0.337711</td>\n",
       "    </tr>\n",
       "    <tr>\n",
       "      <th>0</th>\n",
       "      <td>Simple RNN more layers</td>\n",
       "      <td>0.308609</td>\n",
       "    </tr>\n",
       "    <tr>\n",
       "      <th>0</th>\n",
       "      <td>LSTM</td>\n",
       "      <td>0.394073</td>\n",
       "    </tr>\n",
       "    <tr>\n",
       "      <th>0</th>\n",
       "      <td>lstm more layers</td>\n",
       "      <td>0.406428</td>\n",
       "    </tr>\n",
       "    <tr>\n",
       "      <th>0</th>\n",
       "      <td>GRU more layers</td>\n",
       "      <td>0.345251</td>\n",
       "    </tr>\n",
       "  </tbody>\n",
       "</table>\n",
       "</div>"
      ],
      "text/plain": [
       "                    model       MSE\n",
       "0                Cross NN  0.390798\n",
       "0              Simple RNN  0.337711\n",
       "0  Simple RNN more layers  0.308609\n",
       "0                    LSTM  0.394073\n",
       "0        lstm more layers  0.406428\n",
       "0         GRU more layers  0.345251"
      ]
     },
     "execution_count": 81,
     "metadata": {},
     "output_type": "execute_result"
    }
   ],
   "source": [
    "performance = pd.concat([performance, pd.DataFrame({'model':\"GRU more layers\", 'MSE' : gru_more}, index =[0])])\n",
    "performance"
   ]
  },
  {
   "cell_type": "code",
   "execution_count": 82,
   "id": "6216dd2b-998c-4299-b462-1dd73fde12bc",
   "metadata": {},
   "outputs": [
    {
     "data": {
      "image/png": "[encoded data removed]",
      "text/plain": [
       "<Figure size 640x480 with 1 Axes>"
      ]
     },
     "metadata": {},
     "output_type": "display_data"
    }
   ],
   "source": [
    "plt.plot(comparison['actual'], label = 'actual')\n",
    "plt.plot(comparison['predicted'], label = 'predicted')\n",
    "\n",
    "plt.legend()\n",
    "\n",
    "plt.show()"
   ]
  },
  {
   "cell_type": "markdown",
   "id": "5c22fff3-ff8b-4e78-a786-7a134efd257f",
   "metadata": {},
   "source": [
    "# Conv1D"
   ]
  },
  {
   "cell_type": "markdown",
   "id": "174aa799-1ef8-4157-a82d-2a310024e8c6",
   "metadata": {},
   "source": [
    "### Last Layer: GRU (you can change it to SimpleRNN or LSTM as well)"
   ]
  },
  {
   "cell_type": "code",
   "execution_count": 83,
   "id": "f8e89767-0fb5-4bc6-9551-98239498a66d",
   "metadata": {
    "scrolled": true
   },
   "outputs": [],
   "source": [
    "model = keras.models.Sequential([\n",
    "    keras.layers.Conv1D(filters=20, kernel_size=3, strides=1, padding=\"valid\", input_shape=[9, 1]),\n",
    "    keras.layers.GRU(32, activation='relu', return_sequences=True),\n",
    "    keras.layers.GRU(32, activation='relu', return_sequences=False),\n",
    "    keras.layers.Dense(1, activation=None)\n",
    "])"
   ]
  },
  {
   "cell_type": "code",
   "execution_count": 84,
   "id": "e10a9797-6e55-414c-b80b-16c025d5e91e",
   "metadata": {
    "scrolled": true
   },
   "outputs": [
    {
     "name": "stdout",
     "output_type": "stream",
     "text": [
      "Epoch 1/30\n",
      "1/1 [==============================] - 9s 9s/step - loss: 0.9325\n",
      "Epoch 2/30\n",
      "1/1 [==============================] - 0s 26ms/step - loss: 0.8922\n",
      "Epoch 3/30\n",
      "1/1 [==============================] - 0s 20ms/step - loss: 0.8549\n",
      "Epoch 4/30\n",
      "1/1 [==============================] - 0s 20ms/step - loss: 0.8197\n",
      "Epoch 5/30\n",
      "1/1 [==============================] - 0s 21ms/step - loss: 0.7862\n",
      "Epoch 6/30\n",
      "1/1 [==============================] - 0s 16ms/step - loss: 0.7541\n",
      "Epoch 7/30\n",
      "1/1 [==============================] - 0s 19ms/step - loss: 0.7233\n",
      "Epoch 8/30\n",
      "1/1 [==============================] - 0s 17ms/step - loss: 0.6947\n",
      "Epoch 9/30\n",
      "1/1 [==============================] - 0s 21ms/step - loss: 0.6681\n",
      "Epoch 10/30\n",
      "1/1 [==============================] - 0s 18ms/step - loss: 0.6429\n",
      "Epoch 11/30\n",
      "1/1 [==============================] - 0s 16ms/step - loss: 0.6184\n",
      "Epoch 12/30\n",
      "1/1 [==============================] - 0s 16ms/step - loss: 0.5944\n",
      "Epoch 13/30\n",
      "1/1 [==============================] - 0s 26ms/step - loss: 0.5706\n",
      "Epoch 14/30\n",
      "1/1 [==============================] - 0s 27ms/step - loss: 0.5476\n",
      "Epoch 15/30\n",
      "1/1 [==============================] - 0s 22ms/step - loss: 0.5254\n",
      "Epoch 16/30\n",
      "1/1 [==============================] - 0s 19ms/step - loss: 0.5039\n",
      "Epoch 17/30\n",
      "1/1 [==============================] - 0s 29ms/step - loss: 0.4826\n",
      "Epoch 18/30\n",
      "1/1 [==============================] - 0s 34ms/step - loss: 0.4619\n",
      "Epoch 19/30\n",
      "1/1 [==============================] - 0s 34ms/step - loss: 0.4414\n",
      "Epoch 20/30\n",
      "1/1 [==============================] - 0s 32ms/step - loss: 0.4212\n",
      "Epoch 21/30\n",
      "1/1 [==============================] - 0s 26ms/step - loss: 0.4015\n",
      "Epoch 22/30\n",
      "1/1 [==============================] - 0s 29ms/step - loss: 0.3826\n",
      "Epoch 23/30\n",
      "1/1 [==============================] - 0s 27ms/step - loss: 0.3647\n",
      "Epoch 24/30\n",
      "1/1 [==============================] - 0s 26ms/step - loss: 0.3477\n",
      "Epoch 25/30\n",
      "1/1 [==============================] - 0s 25ms/step - loss: 0.3319\n",
      "Epoch 26/30\n",
      "1/1 [==============================] - 0s 18ms/step - loss: 0.3174\n",
      "Epoch 27/30\n",
      "1/1 [==============================] - 0s 24ms/step - loss: 0.3047\n",
      "Epoch 28/30\n",
      "1/1 [==============================] - 0s 28ms/step - loss: 0.2939\n",
      "Epoch 29/30\n",
      "1/1 [==============================] - 0s 23ms/step - loss: 0.2853\n",
      "Epoch 30/30\n",
      "1/1 [==============================] - 0s 22ms/step - loss: 0.2786\n"
     ]
    }
   ],
   "source": [
    "np.random.seed(42)\n",
    "t2.random.set_seed(42)\n",
    "\n",
    "model.compile(loss=\"mse\", optimizer='Adam')\n",
    "\n",
    "history = model.fit(train_x, train_target, epochs=30)"
   ]
  },
  {
   "cell_type": "markdown",
   "id": "37c2094f-bd61-40b7-ad33-6e4bcca340e9",
   "metadata": {},
   "source": [
    "### Predictions"
   ]
  },
  {
   "cell_type": "code",
   "execution_count": 85,
   "id": "c8286329-285f-4676-86f9-fe28441e4d7a",
   "metadata": {},
   "outputs": [
    {
     "name": "stdout",
     "output_type": "stream",
     "text": [
      "1/1 [==============================] - 1s 1s/step\n"
     ]
    }
   ],
   "source": [
    "#Predict:\n",
    "y_pred = model.predict(test_x)"
   ]
  },
  {
   "cell_type": "code",
   "execution_count": 86,
   "id": "8b487e72-7abb-4cae-92e9-84c7a8d0d267",
   "metadata": {},
   "outputs": [],
   "source": [
    "#Remember, these are standardized values. \n",
    "\n",
    "comparison = pd.DataFrame()\n",
    "\n",
    "comparison['actual'] = scaler.inverse_transform([test_target]).flatten()\n",
    "comparison['predicted'] = scaler.inverse_transform(y_pred).flatten()"
   ]
  },
  {
   "cell_type": "code",
   "execution_count": 87,
   "id": "c6353ffd-d335-4c9d-ae0c-57bbb55c8f0a",
   "metadata": {},
   "outputs": [],
   "source": [
    "conv1d = mean_squared_error(comparison['actual'], comparison['predicted'])"
   ]
  },
  {
   "cell_type": "code",
   "execution_count": 90,
   "id": "f7a4e2c1-b885-4c1a-ad26-c9bcf7d06714",
   "metadata": {},
   "outputs": [
    {
     "data": {
      "text/html": [
       "<div>\n",
       "<style scoped>\n",
       "    .dataframe tbody tr th:only-of-type {\n",
       "        vertical-align: middle;\n",
       "    }\n",
       "\n",
       "    .dataframe tbody tr th {\n",
       "        vertical-align: top;\n",
       "    }\n",
       "\n",
       "    .dataframe thead th {\n",
       "        text-align: right;\n",
       "    }\n",
       "</style>\n",
       "<table border=\"1\" class=\"dataframe\">\n",
       "  <thead>\n",
       "    <tr style=\"text-align: right;\">\n",
       "      <th></th>\n",
       "      <th>model</th>\n",
       "      <th>MSE</th>\n",
       "    </tr>\n",
       "  </thead>\n",
       "  <tbody>\n",
       "    <tr>\n",
       "      <th>0</th>\n",
       "      <td>Cross NN</td>\n",
       "      <td>0.390798</td>\n",
       "    </tr>\n",
       "    <tr>\n",
       "      <th>0</th>\n",
       "      <td>Simple RNN</td>\n",
       "      <td>0.337711</td>\n",
       "    </tr>\n",
       "    <tr>\n",
       "      <th>0</th>\n",
       "      <td>Simple RNN more layers</td>\n",
       "      <td>0.308609</td>\n",
       "    </tr>\n",
       "    <tr>\n",
       "      <th>0</th>\n",
       "      <td>LSTM</td>\n",
       "      <td>0.394073</td>\n",
       "    </tr>\n",
       "    <tr>\n",
       "      <th>0</th>\n",
       "      <td>lstm more layers</td>\n",
       "      <td>0.406428</td>\n",
       "    </tr>\n",
       "    <tr>\n",
       "      <th>0</th>\n",
       "      <td>GRU more layers</td>\n",
       "      <td>0.345251</td>\n",
       "    </tr>\n",
       "    <tr>\n",
       "      <th>0</th>\n",
       "      <td>conv1D</td>\n",
       "      <td>0.447185</td>\n",
       "    </tr>\n",
       "    <tr>\n",
       "      <th>0</th>\n",
       "      <td>conv1D</td>\n",
       "      <td>0.447185</td>\n",
       "    </tr>\n",
       "  </tbody>\n",
       "</table>\n",
       "</div>"
      ],
      "text/plain": [
       "                    model       MSE\n",
       "0                Cross NN  0.390798\n",
       "0              Simple RNN  0.337711\n",
       "0  Simple RNN more layers  0.308609\n",
       "0                    LSTM  0.394073\n",
       "0        lstm more layers  0.406428\n",
       "0         GRU more layers  0.345251\n",
       "0                  conv1D  0.447185\n",
       "0                  conv1D  0.447185"
      ]
     },
     "execution_count": 90,
     "metadata": {},
     "output_type": "execute_result"
    }
   ],
   "source": [
    "performance = pd.concat([performance, pd.DataFrame({'model':\"conv1D\", 'MSE' : conv1d}, index =[0])])\n",
    "performance"
   ]
  },
  {
   "cell_type": "code",
   "execution_count": 89,
   "id": "72c69be1-8111-4ca1-a227-18437b52d0cf",
   "metadata": {},
   "outputs": [
    {
     "data": {
      "text/html": [
       "<div>\n",
       "<style scoped>\n",
       "    .dataframe tbody tr th:only-of-type {\n",
       "        vertical-align: middle;\n",
       "    }\n",
       "\n",
       "    .dataframe tbody tr th {\n",
       "        vertical-align: top;\n",
       "    }\n",
       "\n",
       "    .dataframe thead th {\n",
       "        text-align: right;\n",
       "    }\n",
       "</style>\n",
       "<table border=\"1\" class=\"dataframe\">\n",
       "  <thead>\n",
       "    <tr style=\"text-align: right;\">\n",
       "      <th></th>\n",
       "      <th>model</th>\n",
       "      <th>MSE</th>\n",
       "    </tr>\n",
       "  </thead>\n",
       "  <tbody>\n",
       "    <tr>\n",
       "      <th>0</th>\n",
       "      <td>Simple RNN more layers</td>\n",
       "      <td>0.308609</td>\n",
       "    </tr>\n",
       "    <tr>\n",
       "      <th>0</th>\n",
       "      <td>Simple RNN</td>\n",
       "      <td>0.337711</td>\n",
       "    </tr>\n",
       "    <tr>\n",
       "      <th>0</th>\n",
       "      <td>GRU more layers</td>\n",
       "      <td>0.345251</td>\n",
       "    </tr>\n",
       "    <tr>\n",
       "      <th>0</th>\n",
       "      <td>Cross NN</td>\n",
       "      <td>0.390798</td>\n",
       "    </tr>\n",
       "    <tr>\n",
       "      <th>0</th>\n",
       "      <td>LSTM</td>\n",
       "      <td>0.394073</td>\n",
       "    </tr>\n",
       "    <tr>\n",
       "      <th>0</th>\n",
       "      <td>lstm more layers</td>\n",
       "      <td>0.406428</td>\n",
       "    </tr>\n",
       "    <tr>\n",
       "      <th>0</th>\n",
       "      <td>conv1D</td>\n",
       "      <td>0.447185</td>\n",
       "    </tr>\n",
       "  </tbody>\n",
       "</table>\n",
       "</div>"
      ],
      "text/plain": [
       "                    model       MSE\n",
       "0  Simple RNN more layers  0.308609\n",
       "0              Simple RNN  0.337711\n",
       "0         GRU more layers  0.345251\n",
       "0                Cross NN  0.390798\n",
       "0                    LSTM  0.394073\n",
       "0        lstm more layers  0.406428\n",
       "0                  conv1D  0.447185"
      ]
     },
     "execution_count": 89,
     "metadata": {},
     "output_type": "execute_result"
    }
   ],
   "source": [
    "performance.sort_values(by='MSE')"
   ]
  },
  {
   "cell_type": "markdown",
   "id": "9ee45554-4dd3-4fca-bc84-1e133e6dd5ee",
   "metadata": {},
   "source": [
    "### Analysis\n",
    "The simple RNN with more layers has less mean square error of 0.308,which indicates that its the best model out off the models that we have considered.The simple RNN without additional layers has less mean square error value followed by the GRU with more layers which suggests that these are the next better performing model after the simple RNN with more layers.And the LSTM with more layers and the conv 1d models have the highest meann sqaured error out of all the models which indicates that they are least performing models out of all the all the models.\n",
    "As a result, we can conclude that the simple RNN with additional layers is the best performing model of all, and we can learn more about the rationale of the result through further study and comparison of various metrics."
   ]
  },
  {
   "cell_type": "code",
   "execution_count": null,
   "id": "66abea17-8513-4680-b403-9f564bc8c7ca",
   "metadata": {},
   "outputs": [],
   "source": []
  }
 ],
 "metadata": {
  "kernelspec": {
   "display_name": "Python 3 (ipykernel)",
   "language": "python",
   "name": "python3"
  },
  "language_info": {
   "codemirror_mode": {
    "name": "ipython",
    "version": 3
   },
   "file_extension": ".py",
   "mimetype": "text/x-python",
   "name": "python",
   "nbconvert_exporter": "python",
   "pygments_lexer": "ipython3",
   "version": "3.9.16"
  }
 },
 "nbformat": 4,
 "nbformat_minor": 5
}
